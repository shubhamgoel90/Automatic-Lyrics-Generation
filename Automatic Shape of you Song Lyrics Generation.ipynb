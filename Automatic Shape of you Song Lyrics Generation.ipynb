{
 "cells": [
  {
   "cell_type": "code",
   "execution_count": 1,
   "metadata": {},
   "outputs": [],
   "source": [
    "text = \"\"\"The club isn't the best place to find a lover\n",
    "So the bar is where I go\n",
    "Me and my friends at the table doing shots\n",
    "Drinking fast and then we talk slow\n",
    "Come over and start up a conversation with just me\n",
    "And trust me I'll give it a chance now\n",
    "Take my hand, stop, put Van the Man on the jukebox\n",
    "And then we start to dance, and now I'm singing like\n",
    "Girl, you know I want your love\n",
    "Your love was handmade for somebody like me\n",
    "Come on now, follow my lead\n",
    "I may be crazy, don't mind me\n",
    "Say, boy, let's not talk too much\n",
    "Grab on my waist and put that body on me\n",
    "Come on now, follow my lead\n",
    "Come, come on now, follow my lead\n",
    "I'm in love with the shape of you\n",
    "We push and pull like a magnet do\n",
    "Although my heart is falling too\n",
    "I'm in love with your body\n",
    "And last night you were in my room\n",
    "And now my bedsheets smell like you\n",
    "Every day discovering something brand new\n",
    "I'm in love with your body\n",
    "Oh—I—oh—I—oh—I—oh—I\n",
    "I'm in love with your body\n",
    "Oh—I—oh—I—oh—I—oh—I\n",
    "I'm in love with your body\n",
    "Oh—I—oh—I—oh—I—oh—I\n",
    "I'm in love with your body\n",
    "Every day discovering something brand new\n",
    "I'm in love with the shape of you\n",
    "One week in we let the story begin\n",
    "We're going out on our first date\n",
    "You and me are thrifty, so go all you can eat\n",
    "Fill up your bag and I fill up a plate\n",
    "We talk for hours and hours about the sweet and the sour\n",
    "And how your family is doing okay\n",
    "Leave and get in a taxi, then kiss in the backseat\n",
    "Tell the driver make the radio play, and I'm singing like\n",
    "Girl, you know I want your love\n",
    "Your love was handmade for somebody like me\n",
    "Come on now, follow my lead\n",
    "I may be crazy, don't mind me\n",
    "Say, boy, let's not talk too much\n",
    "Grab on my waist and put that body on me\n",
    "Come on now, follow my lead\n",
    "Come, come on now, follow my lead\n",
    "I'm in love with the shape of you\n",
    "We push and pull like a magnet do\n",
    "Although my heart is falling too\n",
    "I'm in love with your body\n",
    "And last night you were in my room\n",
    "And now my bedsheets smell like you\n",
    "Every day discovering something brand new\n",
    "I'm in love with your body\n",
    "Oh—I—oh—I—oh—I—oh—I\n",
    "I'm in love with your body\n",
    "Oh—I—oh—I—oh—I—oh—I\n",
    "I'm in love with your body\n",
    "Oh—I—oh—I—oh—I—oh—I\n",
    "I'm in love with your body\n",
    "Every day discovering something brand new\n",
    "I'm in love with the shape of you\n",
    "Come on, be my baby, come on\n",
    "Come on, be my baby, come on\n",
    "Come on, be my baby, come on\n",
    "Come on, be my baby, come on\n",
    "Come on, be my baby, come on\n",
    "Come on, be my baby, come on\n",
    "Come on, be my baby, come on\n",
    "Come on, be my baby, come on\n",
    "I'm in love with the shape of you\n",
    "We push and pull like a magnet do\n",
    "Although my heart is falling too\n",
    "I'm in love with your body\n",
    "Last night you were in my room\n",
    "And now my bedsheets smell like you\n",
    "Every day discovering something brand new\n",
    "I'm in love with your body\n",
    "Come on, be my baby, come on\n",
    "Come on, be my baby, come on\n",
    "I'm in love with your body\n",
    "Come on, be my baby, come on\n",
    "Come on, be my baby, come on\n",
    "I'm in love with your body\n",
    "Come on, be my baby, come on\n",
    "Come on, be my baby, come on\n",
    "I'm in love with your body\n",
    "Every day discovering something brand new\n",
    "I'm in love with the shape of you\"\"\""
   ]
  },
  {
   "cell_type": "code",
   "execution_count": 2,
   "metadata": {},
   "outputs": [
    {
     "name": "stdout",
     "output_type": "stream",
     "text": [
      "The club isn't the best place to find a lover\n",
      "So the bar is where I go\n",
      "Me and my friends at the table doing shots\n",
      "Drinking fast and then we talk slow\n",
      "Come over and start up a conversation with just me\n",
      "And trust me I'll give it a chance now\n",
      "Take my hand, stop, put Van the Man on the jukebox\n",
      "And then we start to dance, and now I'm singing like\n",
      "Girl, you know I want your love\n",
      "Your love was handmade for somebody like me\n",
      "Come on now, follow my lead\n",
      "I may be crazy, don't mind me\n",
      "Say, boy, let's not talk too much\n",
      "Grab on my waist and put that body on me\n",
      "Come on now, follow my lead\n",
      "Come, come on now, follow my lead\n",
      "I'm in love with the shape of you\n",
      "We push and pull like a magnet do\n",
      "Although my heart is falling too\n",
      "I'm in love with your body\n",
      "And last night you were in my room\n",
      "And now my bedsheets smell like you\n",
      "Every day discovering something brand new\n",
      "I'm in love with your body\n",
      "Oh—I—oh—I—oh—I—oh—I\n",
      "I'm in love with your body\n",
      "Oh—I—oh—I—oh—I—oh—I\n",
      "I'm in love with your body\n",
      "Oh—I—oh—I—oh—I—oh—I\n",
      "I'm in love with your body\n",
      "Every day discovering something brand new\n",
      "I'm in love with the shape of you\n",
      "One week in we let the story begin\n",
      "We're going out on our first date\n",
      "You and me are thrifty, so go all you can eat\n",
      "Fill up your bag and I fill up a plate\n",
      "We talk for hours and hours about the sweet and the sour\n",
      "And how your family is doing okay\n",
      "Leave and get in a taxi, then kiss in the backseat\n",
      "Tell the driver make the radio play, and I'm singing like\n",
      "Girl, you know I want your love\n",
      "Your love was handmade for somebody like me\n",
      "Come on now, follow my lead\n",
      "I may be crazy, don't mind me\n",
      "Say, boy, let's not talk too much\n",
      "Grab on my waist and put that body on me\n",
      "Come on now, follow my lead\n",
      "Come, come on now, follow my lead\n",
      "I'm in love with the shape of you\n",
      "We push and pull like a magnet do\n",
      "Although my heart is falling too\n",
      "I'm in love with your body\n",
      "And last night you were in my room\n",
      "And now my bedsheets smell like you\n",
      "Every day discovering something brand new\n",
      "I'm in love with your body\n",
      "Oh—I—oh—I—oh—I—oh—I\n",
      "I'm in love with your body\n",
      "Oh—I—oh—I—oh—I—oh—I\n",
      "I'm in love with your body\n",
      "Oh—I—oh—I—oh—I—oh—I\n",
      "I'm in love with your body\n",
      "Every day discovering something brand new\n",
      "I'm in love with the shape of you\n",
      "Come on, be my baby, come on\n",
      "Come on, be my baby, come on\n",
      "Come on, be my baby, come on\n",
      "Come on, be my baby, come on\n",
      "Come on, be my baby, come on\n",
      "Come on, be my baby, come on\n",
      "Come on, be my baby, come on\n",
      "Come on, be my baby, come on\n",
      "I'm in love with the shape of you\n",
      "We push and pull like a magnet do\n",
      "Although my heart is falling too\n",
      "I'm in love with your body\n",
      "Last night you were in my room\n",
      "And now my bedsheets smell like you\n",
      "Every day discovering something brand new\n",
      "I'm in love with your body\n",
      "Come on, be my baby, come on\n",
      "Come on, be my baby, come on\n",
      "I'm in love with your body\n",
      "Come on, be my baby, come on\n",
      "Come on, be my baby, come on\n",
      "I'm in love with your body\n",
      "Come on, be my baby, come on\n",
      "Come on, be my baby, come on\n",
      "I'm in love with your body\n",
      "Every day discovering something brand new\n",
      "I'm in love with the shape of you\n"
     ]
    }
   ],
   "source": [
    "print(text)"
   ]
  },
  {
   "cell_type": "code",
   "execution_count": 3,
   "metadata": {},
   "outputs": [
    {
     "name": "stdout",
     "output_type": "stream",
     "text": [
      "3036\n"
     ]
    }
   ],
   "source": [
    "print(len(text))"
   ]
  },
  {
   "cell_type": "code",
   "execution_count": 4,
   "metadata": {},
   "outputs": [],
   "source": [
    "data = text"
   ]
  },
  {
   "cell_type": "code",
   "execution_count": 5,
   "metadata": {},
   "outputs": [],
   "source": [
    "def generateTable(data,k=4):\n",
    "    \n",
    "    T = {}\n",
    "    for i in range(len(data)-k):\n",
    "        X = data[i:i+k]\n",
    "        Y = data[i+k]\n",
    "        #print(\"X  %s and Y %s  \"%(X,Y))\n",
    "        \n",
    "        if T.get(X) is None:\n",
    "            T[X] = {}\n",
    "            T[X][Y] = 1\n",
    "        else:\n",
    "            if T[X].get(Y) is None:\n",
    "                T[X][Y] = 1\n",
    "            else:\n",
    "                T[X][Y] += 1\n",
    "    \n",
    "    return T\n",
    "        "
   ]
  },
  {
   "cell_type": "code",
   "execution_count": 6,
   "metadata": {},
   "outputs": [
    {
     "name": "stdout",
     "output_type": "stream",
     "text": [
      "{'The ': {'c': 1}, 'he c': {'l': 1}, 'e cl': {'u': 1}, ' clu': {'b': 1}, 'club': {' ': 1}, 'lub ': {'i': 1}, 'ub i': {'s': 1}, 'b is': {'n': 1}, ' isn': {\"'\": 1}, \"isn'\": {'t': 1}, \"sn't\": {' ': 1}, \"n't \": {'t': 1, 'm': 2}, \"'t t\": {'h': 1}, 't th': {'e': 4, 'a': 2}, ' the': {' ': 17, 'n': 3}, 'the ': {'b': 3, 't': 1, 'M': 1, 'j': 1, 's': 9, 'd': 1, 'r': 1}, 'he b': {'e': 1, 'a': 2}, 'e be': {'s': 1}, ' bes': {'t': 1}, 'best': {' ': 1}, 'est ': {'p': 1}, 'st p': {'l': 1}, 't pl': {'a': 1}, ' pla': {'c': 1, 't': 1, 'y': 1}, 'plac': {'e': 1}, 'lace': {' ': 1}, 'ace ': {'t': 1}, 'ce t': {'o': 1}, 'e to': {' ': 1}, ' to ': {'f': 1, 'd': 1}, 'to f': {'i': 1}, 'o fi': {'n': 1}, ' fin': {'d': 1}, 'find': {' ': 1}, 'ind ': {'a': 1, 'm': 2}, 'nd a': {' ': 1}, 'd a ': {'l': 1}, ' a l': {'o': 1}, 'a lo': {'v': 1}, ' lov': {'e': 26}, 'love': {'r': 1, '\\n': 2, ' ': 23}, 'over': {'\\n': 1, ' ': 1, 'i': 6}, 'ver\\n': {'S': 1}, 'er\\nS': {'o': 1}, 'r\\nSo': {' ': 1}, '\\nSo ': {'t': 1}, 'So t': {'h': 1}, 'o th': {'e': 1}, 'e ba': {'r': 1, 'c': 1}, ' bar': {' ': 1}, 'bar ': {'i': 1}, 'ar i': {'s': 1}, 'r is': {' ': 1}, ' is ': {'w': 1, 'f': 3, 'd': 1}, 'is w': {'h': 1}, 's wh': {'e': 1}, ' whe': {'r': 1}, 'wher': {'e': 1}, 'here': {' ': 1}, 'ere ': {'I': 1, 'i': 3}, 're I': {' ': 1}, 'e I ': {'g': 1}, ' I g': {'o': 1}, 'I go': {'\\n': 1}, ' go\\n': {'M': 1}, 'go\\nM': {'e': 1}, 'o\\nMe': {' ': 1}, '\\nMe ': {'a': 1}, 'Me a': {'n': 1}, 'e an': {'d': 2}, ' and': {' ': 15}, 'and ': {'m': 2, 't': 2, 's': 1, 'n': 7, 'p': 5, 'I': 2, 'h': 1, 'g': 1}, 'nd m': {'y': 1, 'e': 3}, 'd my': {' ': 1}, ' my ': {'f': 1, 'h': 4, 'l': 6, 'w': 2, 'r': 3, 'b': 17}, 'my f': {'r': 1}, 'y fr': {'i': 1}, ' fri': {'e': 1}, 'frie': {'n': 1}, 'rien': {'d': 1}, 'iend': {'s': 1}, 'ends': {' ': 1}, 'nds ': {'a': 1}, 'ds a': {'t': 1}, 's at': {' ': 1}, ' at ': {'t': 1}, 'at t': {'h': 1}, 'he t': {'a': 1}, 'e ta': {'b': 1, 'l': 2}, ' tab': {'l': 1}, 'tabl': {'e': 1}, 'able': {' ': 1}, 'ble ': {'d': 1}, 'le d': {'o': 1}, 'e do': {'i': 1}, ' doi': {'n': 2}, 'doin': {'g': 2}, 'oing': {' ': 3}, 'ing ': {'s': 7, 'f': 1, 'l': 2, 't': 3, 'b': 6, 'o': 2}, 'ng s': {'h': 1, 'o': 6}, 'g sh': {'o': 1}, ' sho': {'t': 1}, 'shot': {'s': 1}, 'hots': {'\\n': 1}, 'ots\\n': {'D': 1}, 'ts\\nD': {'r': 1}, 's\\nDr': {'i': 1}, '\\nDri': {'n': 1}, 'Drin': {'k': 1}, 'rink': {'i': 1}, 'inki': {'n': 1}, 'nkin': {'g': 1}, 'king': {' ': 1}, 'ng f': {'a': 1}, 'g fa': {'s': 1}, ' fas': {'t': 1}, 'fast': {' ': 1}, 'ast ': {'a': 1, 'n': 3}, 'st a': {'n': 3}, 't an': {'d': 4}, 'nd t': {'h': 3, 'r': 1}, 'd th': {'e': 3}, 'then': {' ': 3}, 'hen ': {'w': 2, 'k': 1}, 'en w': {'e': 2}, 'n we': {' ': 3}, ' we ': {'t': 1, 's': 1, 'l': 1}, 'we t': {'a': 1}, ' tal': {'k': 4}, 'talk': {' ': 4}, 'alk ': {'s': 1, 't': 2, 'f': 1}, 'lk s': {'l': 1}, 'k sl': {'o': 1}, ' slo': {'w': 1}, 'slow': {'\\n': 1}, 'low\\n': {'C': 1}, 'ow\\nC': {'o': 1}, 'w\\nCo': {'m': 1}, '\\nCom': {'e': 21}, 'Come': {' ': 19, ',': 2}, 'ome ': {'o': 35}, 'me o': {'v': 1, 'n': 34}, 'e ov': {'e': 1}, ' ove': {'r': 1}, 'ver ': {'a': 1, 'm': 1}, 'er a': {'n': 1}, 'r an': {'d': 1}, 'nd s': {'t': 1}, 'd st': {'a': 1}, ' sta': {'r': 2}, 'star': {'t': 2}, 'tart': {' ': 2}, 'art ': {'u': 1, 't': 1, 'i': 3}, 'rt u': {'p': 1}, 't up': {' ': 1}, ' up ': {'a': 2, 'y': 1}, 'up a': {' ': 2}, 'p a ': {'c': 1, 'p': 1}, ' a c': {'o': 1, 'h': 1}, 'a co': {'n': 1}, ' con': {'v': 1}, 'conv': {'e': 1}, 'onve': {'r': 1}, 'nver': {'s': 1}, 'vers': {'a': 1}, 'ersa': {'t': 1}, 'rsat': {'i': 1}, 'sati': {'o': 1}, 'atio': {'n': 1}, 'tion': {' ': 1}, 'ion ': {'w': 1}, 'on w': {'i': 1}, 'n wi': {'t': 1}, ' wit': {'h': 22}, 'with': {' ': 22}, 'ith ': {'j': 1, 't': 6, 'y': 15}, 'th j': {'u': 1}, 'h ju': {'s': 1}, ' jus': {'t': 1}, 'just': {' ': 1}, 'ust ': {'m': 2}, 'st m': {'e': 2}, 't me': {'\\n': 1, ' ': 1}, ' me\\n': {'A': 1, 'C': 4, 'S': 2}, 'me\\nA': {'n': 1}, 'e\\nAn': {'d': 1}, '\\nAnd': {' ': 8}, 'And ': {'t': 2, 'l': 2, 'n': 3, 'h': 1}, 'd tr': {'u': 1}, ' tru': {'s': 1}, 'trus': {'t': 1}, 'rust': {' ': 1}, ' me ': {'I': 1, 'a': 1}, 'me I': {\"'\": 1}, \"e I'\": {'l': 1}, \" I'l\": {'l': 1}, \"I'll\": {' ': 1}, \"'ll \": {'g': 1}, 'll g': {'i': 1}, 'l gi': {'v': 1}, ' giv': {'e': 1}, 'give': {' ': 1}, 'ive ': {'i': 1}, 've i': {'t': 1}, 'e it': {' ': 1}, ' it ': {'a': 1}, 'it a': {' ': 1}, 't a ': {'c': 1}, 'a ch': {'a': 1}, ' cha': {'n': 1}, 'chan': {'c': 1}, 'hanc': {'e': 1}, 'ance': {' ': 1, ',': 1}, 'nce ': {'n': 1}, 'ce n': {'o': 1}, 'e no': {'w': 1}, ' now': {'\\n': 1, ' ': 4, ',': 6}, 'now\\n': {'T': 1}, 'ow\\nT': {'a': 1}, 'w\\nTa': {'k': 1}, '\\nTak': {'e': 1}, 'Take': {' ': 1}, 'ake ': {'m': 1, 't': 1}, 'ke m': {'y': 1, 'e': 2}, 'e my': {' ': 15}, 'my h': {'a': 1, 'e': 3}, 'y ha': {'n': 1}, ' han': {'d': 3}, 'hand': {',': 1, 'm': 2}, 'and,': {' ': 1}, 'nd, ': {'s': 1}, 'd, s': {'t': 1}, ', st': {'o': 1}, ' sto': {'p': 1, 'r': 1}, 'stop': {',': 1}, 'top,': {' ': 1}, 'op, ': {'p': 1}, 'p, p': {'u': 1}, ', pu': {'t': 1}, ' put': {' ': 3}, 'put ': {'V': 1, 't': 2}, 'ut V': {'a': 1}, 't Va': {'n': 1}, ' Van': {' ': 1}, 'Van ': {'t': 1}, 'an t': {'h': 1}, 'n th': {'e': 3}, 'he M': {'a': 1}, 'e Ma': {'n': 1}, ' Man': {' ': 1}, 'Man ': {'o': 1}, 'an o': {'n': 1}, 'n on': {' ': 1}, ' on ': {'t': 1, 'n': 6, 'm': 4, 'o': 1}, 'on t': {'h': 1}, 'he j': {'u': 1}, 'e ju': {'k': 1}, ' juk': {'e': 1}, 'juke': {'b': 1}, 'ukeb': {'o': 1}, 'kebo': {'x': 1}, 'ebox': {'\\n': 1}, 'box\\n': {'A': 1}, 'ox\\nA': {'n': 1}, 'x\\nAn': {'d': 1}, 'we s': {'t': 1}, 'e st': {'a': 1, 'o': 1}, 'rt t': {'o': 1}, 't to': {' ': 1}, 'to d': {'a': 1}, 'o da': {'n': 1}, ' dan': {'c': 1}, 'danc': {'e': 1}, 'nce,': {' ': 1}, 'ce, ': {'a': 1}, 'e, a': {'n': 1}, ', an': {'d': 2}, 'nd n': {'o': 4, 'e': 6}, 'd no': {'w': 4}, 'now ': {'I': 3, 'm': 3}, 'ow I': {\"'\": 1, ' ': 2}, \"w I'\": {'m': 1}, \" I'm\": {' ': 2}, \"I'm \": {'s': 2, 'i': 21}, \"'m s\": {'i': 2}, 'm si': {'n': 2}, ' sin': {'g': 2}, 'sing': {'i': 2}, 'ingi': {'n': 2}, 'ngin': {'g': 2}, 'ging': {' ': 2}, 'ng l': {'i': 2}, 'g li': {'k': 2}, ' lik': {'e': 10}, 'like': {'\\n': 2, ' ': 8}, 'ike\\n': {'G': 2}, 'ke\\nG': {'i': 2}, 'e\\nGi': {'r': 2}, '\\nGir': {'l': 2}, 'Girl': {',': 2}, 'irl,': {' ': 2}, 'rl, ': {'y': 2}, 'l, y': {'o': 2}, ', yo': {'u': 2}, ' you': {' ': 6, 'r': 19, '\\n': 8}, 'you ': {'k': 2, 'w': 3, 'c': 1}, 'ou k': {'n': 2}, 'u kn': {'o': 2}, ' kno': {'w': 2}, 'know': {' ': 2}, 'w I ': {'w': 2}, ' I w': {'a': 2}, 'I wa': {'n': 2}, ' wan': {'t': 2}, 'want': {' ': 2}, 'ant ': {'y': 2}, 'nt y': {'o': 2}, 't yo': {'u': 5}, 'your': {' ': 19}, 'our ': {'l': 4, 'b': 16, 'f': 2}, 'ur l': {'o': 4}, 'r lo': {'v': 4}, 'ove\\n': {'Y': 2}, 've\\nY': {'o': 2}, 'e\\nYo': {'u': 3}, '\\nYou': {'r': 2, ' ': 1}, 'Your': {' ': 2}, 'ove ': {'w': 23}, 've w': {'a': 2, 'i': 21}, 'e wa': {'s': 2}, ' was': {' ': 2}, 'was ': {'h': 2}, 'as h': {'a': 2}, 's ha': {'n': 2}, 'andm': {'a': 2}, 'ndma': {'d': 2}, 'dmad': {'e': 2}, 'made': {' ': 2}, 'ade ': {'f': 2}, 'de f': {'o': 2}, 'e fo': {'r': 2}, ' for': {' ': 3}, 'for ': {'s': 2, 'h': 1}, 'or s': {'o': 2}, 'r so': {'m': 2}, ' som': {'e': 8}, 'some': {'b': 2, 't': 6}, 'omeb': {'o': 2}, 'mebo': {'d': 2}, 'ebod': {'y': 2}, 'body': {' ': 4, '\\n': 15}, 'ody ': {'l': 2, 'o': 2}, 'dy l': {'i': 2}, 'y li': {'k': 2}, 'ike ': {'m': 2, 'a': 3, 'y': 3}, 'e me': {'\\n': 2}, 'me\\nC': {'o': 4}, 'e\\nCo': {'m': 4}, 'e on': {' ': 6, ',': 14, '\\n': 14}, 'on n': {'o': 6}, 'n no': {'w': 6}, 'now,': {' ': 6}, 'ow, ': {'f': 6}, 'w, f': {'o': 6}, ', fo': {'l': 6}, ' fol': {'l': 6}, 'foll': {'o': 6}, 'ollo': {'w': 6}, 'llow': {' ': 6}, 'low ': {'m': 6}, 'ow m': {'y': 9}, 'w my': {' ': 9}, 'my l': {'e': 6}, 'y le': {'a': 6}, ' lea': {'d': 6}, 'lead': {'\\n': 6}, 'ead\\n': {'I': 4, 'C': 2}, 'ad\\nI': {' ': 2, \"'\": 2}, 'd\\nI ': {'m': 2}, '\\nI m': {'a': 2}, 'I ma': {'y': 2}, ' may': {' ': 2}, 'may ': {'b': 2}, 'ay b': {'e': 2}, 'y be': {' ': 2, 'd': 3, 'g': 1}, ' be ': {'c': 2, 'm': 14}, 'be c': {'r': 2}, 'e cr': {'a': 2}, ' cra': {'z': 2}, 'craz': {'y': 2}, 'razy': {',': 2}, 'azy,': {' ': 2}, 'zy, ': {'d': 2}, 'y, d': {'o': 2}, ', do': {'n': 2}, ' don': {\"'\": 2}, \"don'\": {'t': 2}, \"on't\": {' ': 2}, \"'t m\": {'i': 2}, 't mi': {'n': 2}, ' min': {'d': 2}, 'mind': {' ': 2}, 'd me': {'\\n': 2, ' ': 1}, 'me\\nS': {'a': 2}, 'e\\nSa': {'y': 2}, '\\nSay': {',': 2}, 'Say,': {' ': 2}, 'ay, ': {'b': 2, 'a': 1}, 'y, b': {'o': 2}, ', bo': {'y': 2}, ' boy': {',': 2}, 'boy,': {' ': 2}, 'oy, ': {'l': 2}, 'y, l': {'e': 2}, ', le': {'t': 2}, ' let': {\"'\": 2, ' ': 1}, \"let'\": {'s': 2}, \"et's\": {' ': 2}, \"t's \": {'n': 2}, \"'s n\": {'o': 2}, 's no': {'t': 2}, ' not': {' ': 2}, 'not ': {'t': 2}, 'ot t': {'a': 2}, 't ta': {'l': 2}, 'lk t': {'o': 2}, 'k to': {'o': 2}, ' too': {' ': 2, '\\n': 3}, 'too ': {'m': 2}, 'oo m': {'u': 2}, 'o mu': {'c': 2}, ' muc': {'h': 2}, 'much': {'\\n': 2}, 'uch\\n': {'G': 2}, 'ch\\nG': {'r': 2}, 'h\\nGr': {'a': 2}, '\\nGra': {'b': 2}, 'Grab': {' ': 2}, 'rab ': {'o': 2}, 'ab o': {'n': 2}, 'b on': {' ': 2}, 'on m': {'y': 2, 'e': 2}, 'n my': {' ': 5}, 'my w': {'a': 2}, 'y wa': {'i': 2}, ' wai': {'s': 2}, 'wais': {'t': 2}, 'aist': {' ': 2}, 'ist ': {'a': 2}, 'nd p': {'u': 5}, 'd pu': {'t': 2, 'l': 3}, 'ut t': {'h': 3}, ' tha': {'t': 2}, 'that': {' ': 2}, 'hat ': {'b': 2}, 'at b': {'o': 2}, 't bo': {'d': 2}, ' bod': {'y': 17}, 'dy o': {'n': 2}, 'y on': {' ': 2}, 'n me': {'\\n': 2}, 'ad\\nC': {'o': 2}, 'd\\nCo': {'m': 2}, 'ome,': {' ': 2}, 'me, ': {'c': 2}, 'e, c': {'o': 2}, ', co': {'m': 16}, ' com': {'e': 16}, 'come': {' ': 16}, \"d\\nI'\": {'m': 2}, \"\\nI'm\": {' ': 21}, \"'m i\": {'n': 21}, 'm in': {' ': 21}, ' in ': {'l': 21, 'm': 3, 'w': 1, 'a': 1, 't': 1}, 'in l': {'o': 21}, 'n lo': {'v': 21}, 'e wi': {'t': 21}, 'th t': {'h': 6}, 'h th': {'e': 6}, 'he s': {'h': 6, 't': 1, 'w': 1, 'o': 1}, 'e sh': {'a': 6}, ' sha': {'p': 6}, 'shap': {'e': 6}, 'hape': {' ': 6}, 'ape ': {'o': 6}, 'pe o': {'f': 6}, 'e of': {' ': 6}, ' of ': {'y': 6}, 'of y': {'o': 6}, 'f yo': {'u': 6}, 'you\\n': {'W': 3, 'E': 3, 'O': 1, 'C': 1}, 'ou\\nW': {'e': 3}, 'u\\nWe': {' ': 3}, '\\nWe ': {'p': 3, 't': 1}, 'We p': {'u': 3}, 'e pu': {'s': 3}, ' pus': {'h': 3}, 'push': {' ': 3}, 'ush ': {'a': 3}, 'sh a': {'n': 3}, 'h an': {'d': 3}, ' pul': {'l': 3}, 'pull': {' ': 3}, 'ull ': {'l': 3}, 'll l': {'i': 6}, 'l li': {'k': 6}, 'ke a': {' ': 3}, 'e a ': {'m': 3}, ' a m': {'a': 3}, 'a ma': {'g': 3}, ' mag': {'n': 3}, 'magn': {'e': 3}, 'agne': {'t': 3}, 'gnet': {' ': 3}, 'net ': {'d': 3}, 'et d': {'o': 3}, 't do': {'\\n': 3}, ' do\\n': {'A': 3}, 'do\\nA': {'l': 3}, 'o\\nAl': {'t': 3}, '\\nAlt': {'h': 3}, 'Alth': {'o': 3}, 'ltho': {'u': 3}, 'thou': {'g': 3}, 'houg': {'h': 3}, 'ough': {' ': 3}, 'ugh ': {'m': 3}, 'gh m': {'y': 3}, 'h my': {' ': 3}, 'y he': {'a': 3}, ' hea': {'r': 3}, 'hear': {'t': 3}, 'eart': {' ': 3}, 'rt i': {'s': 3}, 't is': {' ': 3}, 'is f': {'a': 3}, 's fa': {'l': 3}, ' fal': {'l': 3}, 'fall': {'i': 3}, 'alli': {'n': 3}, 'llin': {'g': 3}, 'ling': {' ': 3}, 'ng t': {'o': 3}, 'g to': {'o': 3}, 'too\\n': {'I': 3}, 'oo\\nI': {\"'\": 3}, \"o\\nI'\": {'m': 3}, 'th y': {'o': 15}, 'h yo': {'u': 15}, 'ur b': {'o': 15, 'a': 1}, 'r bo': {'d': 15}, 'ody\\n': {'A': 2, 'O': 6, 'E': 3, 'L': 1, 'C': 3}, 'dy\\nA': {'n': 2}, 'y\\nAn': {'d': 2}, 'nd l': {'a': 2}, 'd la': {'s': 2}, ' las': {'t': 2}, 'last': {' ': 2}, 'st n': {'i': 3}, 't ni': {'g': 3}, ' nig': {'h': 3}, 'nigh': {'t': 3}, 'ight': {' ': 3}, 'ght ': {'y': 3}, 'ht y': {'o': 3}, 'ou w': {'e': 3}, 'u we': {'r': 3}, ' wer': {'e': 3}, 'were': {' ': 3}, 're i': {'n': 3}, 'e in': {' ': 3}, 'in m': {'y': 3}, 'my r': {'o': 3}, 'y ro': {'o': 3}, ' roo': {'m': 3}, 'room': {'\\n': 3}, 'oom\\n': {'A': 3}, 'om\\nA': {'n': 3}, 'm\\nAn': {'d': 3}, 'my b': {'e': 3, 'a': 14}, ' bed': {'s': 3}, 'beds': {'h': 3}, 'edsh': {'e': 3}, 'dshe': {'e': 3}, 'shee': {'t': 3}, 'heet': {'s': 3}, 'eets': {' ': 3}, 'ets ': {'s': 3}, 'ts s': {'m': 3}, 's sm': {'e': 3}, ' sme': {'l': 3}, 'smel': {'l': 3}, 'mell': {' ': 3}, 'ell ': {'l': 3, 't': 1}, 'ke y': {'o': 3}, 'e yo': {'u': 3}, 'ou\\nE': {'v': 3}, 'u\\nEv': {'e': 3}, '\\nEve': {'r': 6}, 'Ever': {'y': 6}, 'very': {' ': 6}, 'ery ': {'d': 6}, 'ry d': {'a': 6}, 'y da': {'y': 6}, ' day': {' ': 6}, 'day ': {'d': 6}, 'ay d': {'i': 6}, 'y di': {'s': 6}, ' dis': {'c': 6}, 'disc': {'o': 6}, 'isco': {'v': 6}, 'scov': {'e': 6}, 'cove': {'r': 6}, 'veri': {'n': 6}, 'erin': {'g': 6}, 'ring': {' ': 6}, 'g so': {'m': 6}, 'omet': {'h': 6}, 'meth': {'i': 6}, 'ethi': {'n': 6}, 'thin': {'g': 6}, 'hing': {' ': 6}, 'ng b': {'r': 6}, 'g br': {'a': 6}, ' bra': {'n': 6}, 'bran': {'d': 6}, 'rand': {' ': 6}, 'd ne': {'w': 6}, ' new': {'\\n': 6}, 'new\\n': {'I': 6}, 'ew\\nI': {\"'\": 6}, \"w\\nI'\": {'m': 6}, 'dy\\nO': {'h': 6}, 'y\\nOh': {'—': 6}, '\\nOh—': {'I': 6}, 'Oh—I': {'—': 6}, 'h—I—': {'o': 18}, '—I—o': {'h': 18}, 'I—oh': {'—': 18}, '—oh—': {'I': 18}, 'oh—I': {'—': 12, '\\n': 6}, 'h—I\\n': {'I': 6}, '—I\\nI': {\"'\": 6}, \"I\\nI'\": {'m': 6}, 'dy\\nE': {'v': 3}, 'y\\nEv': {'e': 3}, 'ou\\nO': {'n': 1}, 'u\\nOn': {'e': 1}, '\\nOne': {' ': 1}, 'One ': {'w': 1}, 'ne w': {'e': 1}, 'e we': {'e': 1}, ' wee': {'k': 1}, 'week': {' ': 1}, 'eek ': {'i': 1}, 'ek i': {'n': 1}, 'k in': {' ': 1}, 'in w': {'e': 1}, 'we l': {'e': 1}, 'e le': {'t': 1}, 'let ': {'t': 1}, 'et t': {'h': 1}, 'stor': {'y': 1}, 'tory': {' ': 1}, 'ory ': {'b': 1}, 'ry b': {'e': 1}, ' beg': {'i': 1}, 'begi': {'n': 1}, 'egin': {'\\n': 1}, 'gin\\n': {'W': 1}, 'in\\nW': {'e': 1}, 'n\\nWe': {\"'\": 1}, \"\\nWe'\": {'r': 1}, \"We'r\": {'e': 1}, \"e're\": {' ': 1}, \"'re \": {'g': 1}, 're g': {'o': 1}, 'e go': {'i': 1}, ' goi': {'n': 1}, 'goin': {'g': 1}, 'ng o': {'u': 1, 'k': 1}, 'g ou': {'t': 1}, ' out': {' ': 1}, 'out ': {'o': 1, 't': 1}, 'ut o': {'n': 1}, 't on': {' ': 1}, 'on o': {'u': 1}, 'n ou': {'r': 1}, ' our': {' ': 1}, 'ur f': {'i': 1, 'a': 1}, 'r fi': {'r': 1}, ' fir': {'s': 1}, 'firs': {'t': 1}, 'irst': {' ': 1}, 'rst ': {'d': 1}, 'st d': {'a': 1}, 't da': {'t': 1}, ' dat': {'e': 1}, 'date': {'\\n': 1}, 'ate\\n': {'Y': 1, 'W': 1}, 'te\\nY': {'o': 1}, 'You ': {'a': 1}, 'ou a': {'n': 1}, 'u an': {'d': 1}, 'me a': {'r': 1}, 'e ar': {'e': 1}, ' are': {' ': 1}, 'are ': {'t': 1}, 're t': {'h': 1}, 'e th': {'r': 1, 'e': 1}, ' thr': {'i': 1}, 'thri': {'f': 1}, 'hrif': {'t': 1}, 'rift': {'y': 1}, 'ifty': {',': 1}, 'fty,': {' ': 1}, 'ty, ': {'s': 1}, 'y, s': {'o': 1}, ', so': {' ': 1}, ' so ': {'g': 1}, 'so g': {'o': 1}, 'o go': {' ': 1}, ' go ': {'a': 1}, 'go a': {'l': 1}, 'o al': {'l': 1}, ' all': {' ': 1}, 'all ': {'y': 1}, 'll y': {'o': 1}, 'l yo': {'u': 1}, 'ou c': {'a': 1}, 'u ca': {'n': 1}, ' can': {' ': 1}, 'can ': {'e': 1}, 'an e': {'a': 1}, 'n ea': {'t': 1}, ' eat': {'\\n': 1}, 'eat\\n': {'F': 1, 'T': 1}, 'at\\nF': {'i': 1}, 't\\nFi': {'l': 1}, '\\nFil': {'l': 1}, 'Fill': {' ': 1}, 'ill ': {'u': 2}, 'll u': {'p': 2}, 'l up': {' ': 2}, 'up y': {'o': 1}, 'p yo': {'u': 1}, 'r ba': {'g': 1}, ' bag': {' ': 1}, 'bag ': {'a': 1}, 'ag a': {'n': 1}, 'g an': {'d': 1}, 'nd I': {' ': 1, \"'\": 1}, 'd I ': {'f': 1}, ' I f': {'i': 1}, 'I fi': {'l': 1}, ' fil': {'l': 1}, 'fill': {' ': 1}, ' a p': {'l': 1}, 'a pl': {'a': 1}, 'plat': {'e': 1}, 'late': {'\\n': 1}, 'te\\nW': {'e': 1}, 'e\\nWe': {' ': 1}, 'We t': {'a': 1}, 'lk f': {'o': 1}, 'k fo': {'r': 1}, 'or h': {'o': 1}, 'r ho': {'u': 1}, ' hou': {'r': 2}, 'hour': {'s': 2}, 'ours': {' ': 2}, 'urs ': {'a': 2}, 'rs a': {'n': 1, 'b': 1}, 's an': {'d': 1}, 'nd h': {'o': 2}, 'd ho': {'u': 1, 'w': 1}, 's ab': {'o': 1}, ' abo': {'u': 1}, 'abou': {'t': 1}, 'bout': {' ': 1}, 'e sw': {'e': 1}, ' swe': {'e': 1}, 'swee': {'t': 1}, 'weet': {' ': 1}, 'eet ': {'a': 1}, 'et a': {'n': 1}, 'e so': {'u': 1}, ' sou': {'r': 1}, 'sour': {'\\n': 1}, 'our\\n': {'A': 1}, 'ur\\nA': {'n': 1}, 'r\\nAn': {'d': 1}, ' how': {' ': 1}, 'how ': {'y': 1}, 'ow y': {'o': 1}, 'w yo': {'u': 1}, 'r fa': {'m': 1}, ' fam': {'i': 1}, 'fami': {'l': 1}, 'amil': {'y': 1}, 'mily': {' ': 1}, 'ily ': {'i': 1}, 'ly i': {'s': 1}, 'y is': {' ': 1}, 'is d': {'o': 1}, 's do': {'i': 1}, 'g ok': {'a': 1}, ' oka': {'y': 1}, 'okay': {'\\n': 1}, 'kay\\n': {'L': 1}, 'ay\\nL': {'e': 1}, 'y\\nLe': {'a': 1}, '\\nLea': {'v': 1}, 'Leav': {'e': 1}, 'eave': {' ': 1}, 'ave ': {'a': 1}, 've a': {'n': 1}, 'nd g': {'e': 1}, 'd ge': {'t': 1}, ' get': {' ': 1}, 'get ': {'i': 1}, 'et i': {'n': 1}, 't in': {' ': 1}, 'in a': {' ': 1}, 'n a ': {'t': 1}, ' a t': {'a': 1}, 'a ta': {'x': 1}, ' tax': {'i': 1}, 'taxi': {',': 1}, 'axi,': {' ': 1}, 'xi, ': {'t': 1}, 'i, t': {'h': 1}, ', th': {'e': 1}, 'en k': {'i': 1}, 'n ki': {'s': 1}, ' kis': {'s': 1}, 'kiss': {' ': 1}, 'iss ': {'i': 1}, 'ss i': {'n': 1}, 's in': {' ': 1}, 'in t': {'h': 1}, ' bac': {'k': 1}, 'back': {'s': 1}, 'acks': {'e': 1}, 'ckse': {'a': 1}, 'ksea': {'t': 1}, 'seat': {'\\n': 1}, 'at\\nT': {'e': 1}, 't\\nTe': {'l': 1}, '\\nTel': {'l': 1}, 'Tell': {' ': 1}, 'll t': {'h': 1}, 'l th': {'e': 1}, 'he d': {'r': 1}, 'e dr': {'i': 1}, ' dri': {'v': 1}, 'driv': {'e': 1}, 'rive': {'r': 1}, 'iver': {' ': 1}, 'er m': {'a': 1}, 'r ma': {'k': 1}, ' mak': {'e': 1}, 'make': {' ': 1}, 'ke t': {'h': 1}, 'he r': {'a': 1}, 'e ra': {'d': 1}, ' rad': {'i': 1}, 'radi': {'o': 1}, 'adio': {' ': 1}, 'dio ': {'p': 1}, 'io p': {'l': 1}, 'o pl': {'a': 1}, 'play': {',': 1}, 'lay,': {' ': 1}, 'y, a': {'n': 1}, \"d I'\": {'m': 1}, 'ou\\nC': {'o': 1}, 'u\\nCo': {'m': 1}, ' on,': {' ': 14}, 'on, ': {'b': 14}, 'n, b': {'e': 14}, ', be': {' ': 14}, 'be m': {'y': 14}, 'y ba': {'b': 14}, ' bab': {'y': 14}, 'baby': {',': 14}, 'aby,': {' ': 14}, 'by, ': {'c': 14}, 'y, c': {'o': 14}, ' on\\n': {'C': 10, 'I': 4}, 'on\\nC': {'o': 10}, 'n\\nCo': {'m': 10}, 'on\\nI': {\"'\": 4}, \"n\\nI'\": {'m': 4}, 'dy\\nL': {'a': 1}, 'y\\nLa': {'s': 1}, '\\nLas': {'t': 1}, 'Last': {' ': 1}, 'dy\\nC': {'o': 3}, 'y\\nCo': {'m': 3}}\n"
     ]
    }
   ],
   "source": [
    "T = generateTable(text)\n",
    "print(T)"
   ]
  },
  {
   "cell_type": "code",
   "execution_count": 7,
   "metadata": {},
   "outputs": [],
   "source": [
    "def convertFreqIntoProb(T):     \n",
    "    for kx in T.keys():\n",
    "        s = float(sum(T[kx].values()))\n",
    "        for k in T[kx].keys():\n",
    "            T[kx][k] = T[kx][k]/s\n",
    "                \n",
    "    return T"
   ]
  },
  {
   "cell_type": "code",
   "execution_count": 8,
   "metadata": {},
   "outputs": [
    {
     "name": "stdout",
     "output_type": "stream",
     "text": [
      "{'The ': {'c': 1.0}, 'he c': {'l': 1.0}, 'e cl': {'u': 1.0}, ' clu': {'b': 1.0}, 'club': {' ': 1.0}, 'lub ': {'i': 1.0}, 'ub i': {'s': 1.0}, 'b is': {'n': 1.0}, ' isn': {\"'\": 1.0}, \"isn'\": {'t': 1.0}, \"sn't\": {' ': 1.0}, \"n't \": {'t': 0.3333333333333333, 'm': 0.6666666666666666}, \"'t t\": {'h': 1.0}, 't th': {'e': 0.6666666666666666, 'a': 0.3333333333333333}, ' the': {' ': 0.85, 'n': 0.15}, 'the ': {'b': 0.17647058823529413, 't': 0.058823529411764705, 'M': 0.058823529411764705, 'j': 0.058823529411764705, 's': 0.5294117647058824, 'd': 0.058823529411764705, 'r': 0.058823529411764705}, 'he b': {'e': 0.3333333333333333, 'a': 0.6666666666666666}, 'e be': {'s': 1.0}, ' bes': {'t': 1.0}, 'best': {' ': 1.0}, 'est ': {'p': 1.0}, 'st p': {'l': 1.0}, 't pl': {'a': 1.0}, ' pla': {'c': 0.3333333333333333, 't': 0.3333333333333333, 'y': 0.3333333333333333}, 'plac': {'e': 1.0}, 'lace': {' ': 1.0}, 'ace ': {'t': 1.0}, 'ce t': {'o': 1.0}, 'e to': {' ': 1.0}, ' to ': {'f': 0.5, 'd': 0.5}, 'to f': {'i': 1.0}, 'o fi': {'n': 1.0}, ' fin': {'d': 1.0}, 'find': {' ': 1.0}, 'ind ': {'a': 0.3333333333333333, 'm': 0.6666666666666666}, 'nd a': {' ': 1.0}, 'd a ': {'l': 1.0}, ' a l': {'o': 1.0}, 'a lo': {'v': 1.0}, ' lov': {'e': 1.0}, 'love': {'r': 0.038461538461538464, '\\n': 0.07692307692307693, ' ': 0.8846153846153846}, 'over': {'\\n': 0.125, ' ': 0.125, 'i': 0.75}, 'ver\\n': {'S': 1.0}, 'er\\nS': {'o': 1.0}, 'r\\nSo': {' ': 1.0}, '\\nSo ': {'t': 1.0}, 'So t': {'h': 1.0}, 'o th': {'e': 1.0}, 'e ba': {'r': 0.5, 'c': 0.5}, ' bar': {' ': 1.0}, 'bar ': {'i': 1.0}, 'ar i': {'s': 1.0}, 'r is': {' ': 1.0}, ' is ': {'w': 0.2, 'f': 0.6, 'd': 0.2}, 'is w': {'h': 1.0}, 's wh': {'e': 1.0}, ' whe': {'r': 1.0}, 'wher': {'e': 1.0}, 'here': {' ': 1.0}, 'ere ': {'I': 0.25, 'i': 0.75}, 're I': {' ': 1.0}, 'e I ': {'g': 1.0}, ' I g': {'o': 1.0}, 'I go': {'\\n': 1.0}, ' go\\n': {'M': 1.0}, 'go\\nM': {'e': 1.0}, 'o\\nMe': {' ': 1.0}, '\\nMe ': {'a': 1.0}, 'Me a': {'n': 1.0}, 'e an': {'d': 1.0}, ' and': {' ': 1.0}, 'and ': {'m': 0.09523809523809523, 't': 0.09523809523809523, 's': 0.047619047619047616, 'n': 0.3333333333333333, 'p': 0.23809523809523808, 'I': 0.09523809523809523, 'h': 0.047619047619047616, 'g': 0.047619047619047616}, 'nd m': {'y': 0.25, 'e': 0.75}, 'd my': {' ': 1.0}, ' my ': {'f': 0.030303030303030304, 'h': 0.12121212121212122, 'l': 0.18181818181818182, 'w': 0.06060606060606061, 'r': 0.09090909090909091, 'b': 0.5151515151515151}, 'my f': {'r': 1.0}, 'y fr': {'i': 1.0}, ' fri': {'e': 1.0}, 'frie': {'n': 1.0}, 'rien': {'d': 1.0}, 'iend': {'s': 1.0}, 'ends': {' ': 1.0}, 'nds ': {'a': 1.0}, 'ds a': {'t': 1.0}, 's at': {' ': 1.0}, ' at ': {'t': 1.0}, 'at t': {'h': 1.0}, 'he t': {'a': 1.0}, 'e ta': {'b': 0.3333333333333333, 'l': 0.6666666666666666}, ' tab': {'l': 1.0}, 'tabl': {'e': 1.0}, 'able': {' ': 1.0}, 'ble ': {'d': 1.0}, 'le d': {'o': 1.0}, 'e do': {'i': 1.0}, ' doi': {'n': 1.0}, 'doin': {'g': 1.0}, 'oing': {' ': 1.0}, 'ing ': {'s': 0.3333333333333333, 'f': 0.047619047619047616, 'l': 0.09523809523809523, 't': 0.14285714285714285, 'b': 0.2857142857142857, 'o': 0.09523809523809523}, 'ng s': {'h': 0.14285714285714285, 'o': 0.8571428571428571}, 'g sh': {'o': 1.0}, ' sho': {'t': 1.0}, 'shot': {'s': 1.0}, 'hots': {'\\n': 1.0}, 'ots\\n': {'D': 1.0}, 'ts\\nD': {'r': 1.0}, 's\\nDr': {'i': 1.0}, '\\nDri': {'n': 1.0}, 'Drin': {'k': 1.0}, 'rink': {'i': 1.0}, 'inki': {'n': 1.0}, 'nkin': {'g': 1.0}, 'king': {' ': 1.0}, 'ng f': {'a': 1.0}, 'g fa': {'s': 1.0}, ' fas': {'t': 1.0}, 'fast': {' ': 1.0}, 'ast ': {'a': 0.25, 'n': 0.75}, 'st a': {'n': 1.0}, 't an': {'d': 1.0}, 'nd t': {'h': 0.75, 'r': 0.25}, 'd th': {'e': 1.0}, 'then': {' ': 1.0}, 'hen ': {'w': 0.6666666666666666, 'k': 0.3333333333333333}, 'en w': {'e': 1.0}, 'n we': {' ': 1.0}, ' we ': {'t': 0.3333333333333333, 's': 0.3333333333333333, 'l': 0.3333333333333333}, 'we t': {'a': 1.0}, ' tal': {'k': 1.0}, 'talk': {' ': 1.0}, 'alk ': {'s': 0.25, 't': 0.5, 'f': 0.25}, 'lk s': {'l': 1.0}, 'k sl': {'o': 1.0}, ' slo': {'w': 1.0}, 'slow': {'\\n': 1.0}, 'low\\n': {'C': 1.0}, 'ow\\nC': {'o': 1.0}, 'w\\nCo': {'m': 1.0}, '\\nCom': {'e': 1.0}, 'Come': {' ': 0.9047619047619048, ',': 0.09523809523809523}, 'ome ': {'o': 1.0}, 'me o': {'v': 0.02857142857142857, 'n': 0.9714285714285714}, 'e ov': {'e': 1.0}, ' ove': {'r': 1.0}, 'ver ': {'a': 0.5, 'm': 0.5}, 'er a': {'n': 1.0}, 'r an': {'d': 1.0}, 'nd s': {'t': 1.0}, 'd st': {'a': 1.0}, ' sta': {'r': 1.0}, 'star': {'t': 1.0}, 'tart': {' ': 1.0}, 'art ': {'u': 0.2, 't': 0.2, 'i': 0.6}, 'rt u': {'p': 1.0}, 't up': {' ': 1.0}, ' up ': {'a': 0.6666666666666666, 'y': 0.3333333333333333}, 'up a': {' ': 1.0}, 'p a ': {'c': 0.5, 'p': 0.5}, ' a c': {'o': 0.5, 'h': 0.5}, 'a co': {'n': 1.0}, ' con': {'v': 1.0}, 'conv': {'e': 1.0}, 'onve': {'r': 1.0}, 'nver': {'s': 1.0}, 'vers': {'a': 1.0}, 'ersa': {'t': 1.0}, 'rsat': {'i': 1.0}, 'sati': {'o': 1.0}, 'atio': {'n': 1.0}, 'tion': {' ': 1.0}, 'ion ': {'w': 1.0}, 'on w': {'i': 1.0}, 'n wi': {'t': 1.0}, ' wit': {'h': 1.0}, 'with': {' ': 1.0}, 'ith ': {'j': 0.045454545454545456, 't': 0.2727272727272727, 'y': 0.6818181818181818}, 'th j': {'u': 1.0}, 'h ju': {'s': 1.0}, ' jus': {'t': 1.0}, 'just': {' ': 1.0}, 'ust ': {'m': 1.0}, 'st m': {'e': 1.0}, 't me': {'\\n': 0.5, ' ': 0.5}, ' me\\n': {'A': 0.14285714285714285, 'C': 0.5714285714285714, 'S': 0.2857142857142857}, 'me\\nA': {'n': 1.0}, 'e\\nAn': {'d': 1.0}, '\\nAnd': {' ': 1.0}, 'And ': {'t': 0.25, 'l': 0.25, 'n': 0.375, 'h': 0.125}, 'd tr': {'u': 1.0}, ' tru': {'s': 1.0}, 'trus': {'t': 1.0}, 'rust': {' ': 1.0}, ' me ': {'I': 0.5, 'a': 0.5}, 'me I': {\"'\": 1.0}, \"e I'\": {'l': 1.0}, \" I'l\": {'l': 1.0}, \"I'll\": {' ': 1.0}, \"'ll \": {'g': 1.0}, 'll g': {'i': 1.0}, 'l gi': {'v': 1.0}, ' giv': {'e': 1.0}, 'give': {' ': 1.0}, 'ive ': {'i': 1.0}, 've i': {'t': 1.0}, 'e it': {' ': 1.0}, ' it ': {'a': 1.0}, 'it a': {' ': 1.0}, 't a ': {'c': 1.0}, 'a ch': {'a': 1.0}, ' cha': {'n': 1.0}, 'chan': {'c': 1.0}, 'hanc': {'e': 1.0}, 'ance': {' ': 0.5, ',': 0.5}, 'nce ': {'n': 1.0}, 'ce n': {'o': 1.0}, 'e no': {'w': 1.0}, ' now': {'\\n': 0.09090909090909091, ' ': 0.36363636363636365, ',': 0.5454545454545454}, 'now\\n': {'T': 1.0}, 'ow\\nT': {'a': 1.0}, 'w\\nTa': {'k': 1.0}, '\\nTak': {'e': 1.0}, 'Take': {' ': 1.0}, 'ake ': {'m': 0.5, 't': 0.5}, 'ke m': {'y': 0.3333333333333333, 'e': 0.6666666666666666}, 'e my': {' ': 1.0}, 'my h': {'a': 0.25, 'e': 0.75}, 'y ha': {'n': 1.0}, ' han': {'d': 1.0}, 'hand': {',': 0.3333333333333333, 'm': 0.6666666666666666}, 'and,': {' ': 1.0}, 'nd, ': {'s': 1.0}, 'd, s': {'t': 1.0}, ', st': {'o': 1.0}, ' sto': {'p': 0.5, 'r': 0.5}, 'stop': {',': 1.0}, 'top,': {' ': 1.0}, 'op, ': {'p': 1.0}, 'p, p': {'u': 1.0}, ', pu': {'t': 1.0}, ' put': {' ': 1.0}, 'put ': {'V': 0.3333333333333333, 't': 0.6666666666666666}, 'ut V': {'a': 1.0}, 't Va': {'n': 1.0}, ' Van': {' ': 1.0}, 'Van ': {'t': 1.0}, 'an t': {'h': 1.0}, 'n th': {'e': 1.0}, 'he M': {'a': 1.0}, 'e Ma': {'n': 1.0}, ' Man': {' ': 1.0}, 'Man ': {'o': 1.0}, 'an o': {'n': 1.0}, 'n on': {' ': 1.0}, ' on ': {'t': 0.08333333333333333, 'n': 0.5, 'm': 0.3333333333333333, 'o': 0.08333333333333333}, 'on t': {'h': 1.0}, 'he j': {'u': 1.0}, 'e ju': {'k': 1.0}, ' juk': {'e': 1.0}, 'juke': {'b': 1.0}, 'ukeb': {'o': 1.0}, 'kebo': {'x': 1.0}, 'ebox': {'\\n': 1.0}, 'box\\n': {'A': 1.0}, 'ox\\nA': {'n': 1.0}, 'x\\nAn': {'d': 1.0}, 'we s': {'t': 1.0}, 'e st': {'a': 0.5, 'o': 0.5}, 'rt t': {'o': 1.0}, 't to': {' ': 1.0}, 'to d': {'a': 1.0}, 'o da': {'n': 1.0}, ' dan': {'c': 1.0}, 'danc': {'e': 1.0}, 'nce,': {' ': 1.0}, 'ce, ': {'a': 1.0}, 'e, a': {'n': 1.0}, ', an': {'d': 1.0}, 'nd n': {'o': 0.4, 'e': 0.6}, 'd no': {'w': 1.0}, 'now ': {'I': 0.5, 'm': 0.5}, 'ow I': {\"'\": 0.3333333333333333, ' ': 0.6666666666666666}, \"w I'\": {'m': 1.0}, \" I'm\": {' ': 1.0}, \"I'm \": {'s': 0.08695652173913043, 'i': 0.9130434782608695}, \"'m s\": {'i': 1.0}, 'm si': {'n': 1.0}, ' sin': {'g': 1.0}, 'sing': {'i': 1.0}, 'ingi': {'n': 1.0}, 'ngin': {'g': 1.0}, 'ging': {' ': 1.0}, 'ng l': {'i': 1.0}, 'g li': {'k': 1.0}, ' lik': {'e': 1.0}, 'like': {'\\n': 0.2, ' ': 0.8}, 'ike\\n': {'G': 1.0}, 'ke\\nG': {'i': 1.0}, 'e\\nGi': {'r': 1.0}, '\\nGir': {'l': 1.0}, 'Girl': {',': 1.0}, 'irl,': {' ': 1.0}, 'rl, ': {'y': 1.0}, 'l, y': {'o': 1.0}, ', yo': {'u': 1.0}, ' you': {' ': 0.18181818181818182, 'r': 0.5757575757575758, '\\n': 0.24242424242424243}, 'you ': {'k': 0.3333333333333333, 'w': 0.5, 'c': 0.16666666666666666}, 'ou k': {'n': 1.0}, 'u kn': {'o': 1.0}, ' kno': {'w': 1.0}, 'know': {' ': 1.0}, 'w I ': {'w': 1.0}, ' I w': {'a': 1.0}, 'I wa': {'n': 1.0}, ' wan': {'t': 1.0}, 'want': {' ': 1.0}, 'ant ': {'y': 1.0}, 'nt y': {'o': 1.0}, 't yo': {'u': 1.0}, 'your': {' ': 1.0}, 'our ': {'l': 0.18181818181818182, 'b': 0.7272727272727273, 'f': 0.09090909090909091}, 'ur l': {'o': 1.0}, 'r lo': {'v': 1.0}, 'ove\\n': {'Y': 1.0}, 've\\nY': {'o': 1.0}, 'e\\nYo': {'u': 1.0}, '\\nYou': {'r': 0.6666666666666666, ' ': 0.3333333333333333}, 'Your': {' ': 1.0}, 'ove ': {'w': 1.0}, 've w': {'a': 0.08695652173913043, 'i': 0.9130434782608695}, 'e wa': {'s': 1.0}, ' was': {' ': 1.0}, 'was ': {'h': 1.0}, 'as h': {'a': 1.0}, 's ha': {'n': 1.0}, 'andm': {'a': 1.0}, 'ndma': {'d': 1.0}, 'dmad': {'e': 1.0}, 'made': {' ': 1.0}, 'ade ': {'f': 1.0}, 'de f': {'o': 1.0}, 'e fo': {'r': 1.0}, ' for': {' ': 1.0}, 'for ': {'s': 0.6666666666666666, 'h': 0.3333333333333333}, 'or s': {'o': 1.0}, 'r so': {'m': 1.0}, ' som': {'e': 1.0}, 'some': {'b': 0.25, 't': 0.75}, 'omeb': {'o': 1.0}, 'mebo': {'d': 1.0}, 'ebod': {'y': 1.0}, 'body': {' ': 0.21052631578947367, '\\n': 0.7894736842105263}, 'ody ': {'l': 0.5, 'o': 0.5}, 'dy l': {'i': 1.0}, 'y li': {'k': 1.0}, 'ike ': {'m': 0.25, 'a': 0.375, 'y': 0.375}, 'e me': {'\\n': 1.0}, 'me\\nC': {'o': 1.0}, 'e\\nCo': {'m': 1.0}, 'e on': {' ': 0.17647058823529413, ',': 0.4117647058823529, '\\n': 0.4117647058823529}, 'on n': {'o': 1.0}, 'n no': {'w': 1.0}, 'now,': {' ': 1.0}, 'ow, ': {'f': 1.0}, 'w, f': {'o': 1.0}, ', fo': {'l': 1.0}, ' fol': {'l': 1.0}, 'foll': {'o': 1.0}, 'ollo': {'w': 1.0}, 'llow': {' ': 1.0}, 'low ': {'m': 1.0}, 'ow m': {'y': 1.0}, 'w my': {' ': 1.0}, 'my l': {'e': 1.0}, 'y le': {'a': 1.0}, ' lea': {'d': 1.0}, 'lead': {'\\n': 1.0}, 'ead\\n': {'I': 0.6666666666666666, 'C': 0.3333333333333333}, 'ad\\nI': {' ': 0.5, \"'\": 0.5}, 'd\\nI ': {'m': 1.0}, '\\nI m': {'a': 1.0}, 'I ma': {'y': 1.0}, ' may': {' ': 1.0}, 'may ': {'b': 1.0}, 'ay b': {'e': 1.0}, 'y be': {' ': 0.3333333333333333, 'd': 0.5, 'g': 0.16666666666666666}, ' be ': {'c': 0.125, 'm': 0.875}, 'be c': {'r': 1.0}, 'e cr': {'a': 1.0}, ' cra': {'z': 1.0}, 'craz': {'y': 1.0}, 'razy': {',': 1.0}, 'azy,': {' ': 1.0}, 'zy, ': {'d': 1.0}, 'y, d': {'o': 1.0}, ', do': {'n': 1.0}, ' don': {\"'\": 1.0}, \"don'\": {'t': 1.0}, \"on't\": {' ': 1.0}, \"'t m\": {'i': 1.0}, 't mi': {'n': 1.0}, ' min': {'d': 1.0}, 'mind': {' ': 1.0}, 'd me': {'\\n': 0.6666666666666666, ' ': 0.3333333333333333}, 'me\\nS': {'a': 1.0}, 'e\\nSa': {'y': 1.0}, '\\nSay': {',': 1.0}, 'Say,': {' ': 1.0}, 'ay, ': {'b': 0.6666666666666666, 'a': 0.3333333333333333}, 'y, b': {'o': 1.0}, ', bo': {'y': 1.0}, ' boy': {',': 1.0}, 'boy,': {' ': 1.0}, 'oy, ': {'l': 1.0}, 'y, l': {'e': 1.0}, ', le': {'t': 1.0}, ' let': {\"'\": 0.6666666666666666, ' ': 0.3333333333333333}, \"let'\": {'s': 1.0}, \"et's\": {' ': 1.0}, \"t's \": {'n': 1.0}, \"'s n\": {'o': 1.0}, 's no': {'t': 1.0}, ' not': {' ': 1.0}, 'not ': {'t': 1.0}, 'ot t': {'a': 1.0}, 't ta': {'l': 1.0}, 'lk t': {'o': 1.0}, 'k to': {'o': 1.0}, ' too': {' ': 0.4, '\\n': 0.6}, 'too ': {'m': 1.0}, 'oo m': {'u': 1.0}, 'o mu': {'c': 1.0}, ' muc': {'h': 1.0}, 'much': {'\\n': 1.0}, 'uch\\n': {'G': 1.0}, 'ch\\nG': {'r': 1.0}, 'h\\nGr': {'a': 1.0}, '\\nGra': {'b': 1.0}, 'Grab': {' ': 1.0}, 'rab ': {'o': 1.0}, 'ab o': {'n': 1.0}, 'b on': {' ': 1.0}, 'on m': {'y': 0.5, 'e': 0.5}, 'n my': {' ': 1.0}, 'my w': {'a': 1.0}, 'y wa': {'i': 1.0}, ' wai': {'s': 1.0}, 'wais': {'t': 1.0}, 'aist': {' ': 1.0}, 'ist ': {'a': 1.0}, 'nd p': {'u': 1.0}, 'd pu': {'t': 0.4, 'l': 0.6}, 'ut t': {'h': 1.0}, ' tha': {'t': 1.0}, 'that': {' ': 1.0}, 'hat ': {'b': 1.0}, 'at b': {'o': 1.0}, 't bo': {'d': 1.0}, ' bod': {'y': 1.0}, 'dy o': {'n': 1.0}, 'y on': {' ': 1.0}, 'n me': {'\\n': 1.0}, 'ad\\nC': {'o': 1.0}, 'd\\nCo': {'m': 1.0}, 'ome,': {' ': 1.0}, 'me, ': {'c': 1.0}, 'e, c': {'o': 1.0}, ', co': {'m': 1.0}, ' com': {'e': 1.0}, 'come': {' ': 1.0}, \"d\\nI'\": {'m': 1.0}, \"\\nI'm\": {' ': 1.0}, \"'m i\": {'n': 1.0}, 'm in': {' ': 1.0}, ' in ': {'l': 0.7777777777777778, 'm': 0.1111111111111111, 'w': 0.037037037037037035, 'a': 0.037037037037037035, 't': 0.037037037037037035}, 'in l': {'o': 1.0}, 'n lo': {'v': 1.0}, 'e wi': {'t': 1.0}, 'th t': {'h': 1.0}, 'h th': {'e': 1.0}, 'he s': {'h': 0.6666666666666666, 't': 0.1111111111111111, 'w': 0.1111111111111111, 'o': 0.1111111111111111}, 'e sh': {'a': 1.0}, ' sha': {'p': 1.0}, 'shap': {'e': 1.0}, 'hape': {' ': 1.0}, 'ape ': {'o': 1.0}, 'pe o': {'f': 1.0}, 'e of': {' ': 1.0}, ' of ': {'y': 1.0}, 'of y': {'o': 1.0}, 'f yo': {'u': 1.0}, 'you\\n': {'W': 0.375, 'E': 0.375, 'O': 0.125, 'C': 0.125}, 'ou\\nW': {'e': 1.0}, 'u\\nWe': {' ': 1.0}, '\\nWe ': {'p': 0.75, 't': 0.25}, 'We p': {'u': 1.0}, 'e pu': {'s': 1.0}, ' pus': {'h': 1.0}, 'push': {' ': 1.0}, 'ush ': {'a': 1.0}, 'sh a': {'n': 1.0}, 'h an': {'d': 1.0}, ' pul': {'l': 1.0}, 'pull': {' ': 1.0}, 'ull ': {'l': 1.0}, 'll l': {'i': 1.0}, 'l li': {'k': 1.0}, 'ke a': {' ': 1.0}, 'e a ': {'m': 1.0}, ' a m': {'a': 1.0}, 'a ma': {'g': 1.0}, ' mag': {'n': 1.0}, 'magn': {'e': 1.0}, 'agne': {'t': 1.0}, 'gnet': {' ': 1.0}, 'net ': {'d': 1.0}, 'et d': {'o': 1.0}, 't do': {'\\n': 1.0}, ' do\\n': {'A': 1.0}, 'do\\nA': {'l': 1.0}, 'o\\nAl': {'t': 1.0}, '\\nAlt': {'h': 1.0}, 'Alth': {'o': 1.0}, 'ltho': {'u': 1.0}, 'thou': {'g': 1.0}, 'houg': {'h': 1.0}, 'ough': {' ': 1.0}, 'ugh ': {'m': 1.0}, 'gh m': {'y': 1.0}, 'h my': {' ': 1.0}, 'y he': {'a': 1.0}, ' hea': {'r': 1.0}, 'hear': {'t': 1.0}, 'eart': {' ': 1.0}, 'rt i': {'s': 1.0}, 't is': {' ': 1.0}, 'is f': {'a': 1.0}, 's fa': {'l': 1.0}, ' fal': {'l': 1.0}, 'fall': {'i': 1.0}, 'alli': {'n': 1.0}, 'llin': {'g': 1.0}, 'ling': {' ': 1.0}, 'ng t': {'o': 1.0}, 'g to': {'o': 1.0}, 'too\\n': {'I': 1.0}, 'oo\\nI': {\"'\": 1.0}, \"o\\nI'\": {'m': 1.0}, 'th y': {'o': 1.0}, 'h yo': {'u': 1.0}, 'ur b': {'o': 0.9375, 'a': 0.0625}, 'r bo': {'d': 1.0}, 'ody\\n': {'A': 0.13333333333333333, 'O': 0.4, 'E': 0.2, 'L': 0.06666666666666667, 'C': 0.2}, 'dy\\nA': {'n': 1.0}, 'y\\nAn': {'d': 1.0}, 'nd l': {'a': 1.0}, 'd la': {'s': 1.0}, ' las': {'t': 1.0}, 'last': {' ': 1.0}, 'st n': {'i': 1.0}, 't ni': {'g': 1.0}, ' nig': {'h': 1.0}, 'nigh': {'t': 1.0}, 'ight': {' ': 1.0}, 'ght ': {'y': 1.0}, 'ht y': {'o': 1.0}, 'ou w': {'e': 1.0}, 'u we': {'r': 1.0}, ' wer': {'e': 1.0}, 'were': {' ': 1.0}, 're i': {'n': 1.0}, 'e in': {' ': 1.0}, 'in m': {'y': 1.0}, 'my r': {'o': 1.0}, 'y ro': {'o': 1.0}, ' roo': {'m': 1.0}, 'room': {'\\n': 1.0}, 'oom\\n': {'A': 1.0}, 'om\\nA': {'n': 1.0}, 'm\\nAn': {'d': 1.0}, 'my b': {'e': 0.17647058823529413, 'a': 0.8235294117647058}, ' bed': {'s': 1.0}, 'beds': {'h': 1.0}, 'edsh': {'e': 1.0}, 'dshe': {'e': 1.0}, 'shee': {'t': 1.0}, 'heet': {'s': 1.0}, 'eets': {' ': 1.0}, 'ets ': {'s': 1.0}, 'ts s': {'m': 1.0}, 's sm': {'e': 1.0}, ' sme': {'l': 1.0}, 'smel': {'l': 1.0}, 'mell': {' ': 1.0}, 'ell ': {'l': 0.75, 't': 0.25}, 'ke y': {'o': 1.0}, 'e yo': {'u': 1.0}, 'ou\\nE': {'v': 1.0}, 'u\\nEv': {'e': 1.0}, '\\nEve': {'r': 1.0}, 'Ever': {'y': 1.0}, 'very': {' ': 1.0}, 'ery ': {'d': 1.0}, 'ry d': {'a': 1.0}, 'y da': {'y': 1.0}, ' day': {' ': 1.0}, 'day ': {'d': 1.0}, 'ay d': {'i': 1.0}, 'y di': {'s': 1.0}, ' dis': {'c': 1.0}, 'disc': {'o': 1.0}, 'isco': {'v': 1.0}, 'scov': {'e': 1.0}, 'cove': {'r': 1.0}, 'veri': {'n': 1.0}, 'erin': {'g': 1.0}, 'ring': {' ': 1.0}, 'g so': {'m': 1.0}, 'omet': {'h': 1.0}, 'meth': {'i': 1.0}, 'ethi': {'n': 1.0}, 'thin': {'g': 1.0}, 'hing': {' ': 1.0}, 'ng b': {'r': 1.0}, 'g br': {'a': 1.0}, ' bra': {'n': 1.0}, 'bran': {'d': 1.0}, 'rand': {' ': 1.0}, 'd ne': {'w': 1.0}, ' new': {'\\n': 1.0}, 'new\\n': {'I': 1.0}, 'ew\\nI': {\"'\": 1.0}, \"w\\nI'\": {'m': 1.0}, 'dy\\nO': {'h': 1.0}, 'y\\nOh': {'—': 1.0}, '\\nOh—': {'I': 1.0}, 'Oh—I': {'—': 1.0}, 'h—I—': {'o': 1.0}, '—I—o': {'h': 1.0}, 'I—oh': {'—': 1.0}, '—oh—': {'I': 1.0}, 'oh—I': {'—': 0.6666666666666666, '\\n': 0.3333333333333333}, 'h—I\\n': {'I': 1.0}, '—I\\nI': {\"'\": 1.0}, \"I\\nI'\": {'m': 1.0}, 'dy\\nE': {'v': 1.0}, 'y\\nEv': {'e': 1.0}, 'ou\\nO': {'n': 1.0}, 'u\\nOn': {'e': 1.0}, '\\nOne': {' ': 1.0}, 'One ': {'w': 1.0}, 'ne w': {'e': 1.0}, 'e we': {'e': 1.0}, ' wee': {'k': 1.0}, 'week': {' ': 1.0}, 'eek ': {'i': 1.0}, 'ek i': {'n': 1.0}, 'k in': {' ': 1.0}, 'in w': {'e': 1.0}, 'we l': {'e': 1.0}, 'e le': {'t': 1.0}, 'let ': {'t': 1.0}, 'et t': {'h': 1.0}, 'stor': {'y': 1.0}, 'tory': {' ': 1.0}, 'ory ': {'b': 1.0}, 'ry b': {'e': 1.0}, ' beg': {'i': 1.0}, 'begi': {'n': 1.0}, 'egin': {'\\n': 1.0}, 'gin\\n': {'W': 1.0}, 'in\\nW': {'e': 1.0}, 'n\\nWe': {\"'\": 1.0}, \"\\nWe'\": {'r': 1.0}, \"We'r\": {'e': 1.0}, \"e're\": {' ': 1.0}, \"'re \": {'g': 1.0}, 're g': {'o': 1.0}, 'e go': {'i': 1.0}, ' goi': {'n': 1.0}, 'goin': {'g': 1.0}, 'ng o': {'u': 0.5, 'k': 0.5}, 'g ou': {'t': 1.0}, ' out': {' ': 1.0}, 'out ': {'o': 0.5, 't': 0.5}, 'ut o': {'n': 1.0}, 't on': {' ': 1.0}, 'on o': {'u': 1.0}, 'n ou': {'r': 1.0}, ' our': {' ': 1.0}, 'ur f': {'i': 0.5, 'a': 0.5}, 'r fi': {'r': 1.0}, ' fir': {'s': 1.0}, 'firs': {'t': 1.0}, 'irst': {' ': 1.0}, 'rst ': {'d': 1.0}, 'st d': {'a': 1.0}, 't da': {'t': 1.0}, ' dat': {'e': 1.0}, 'date': {'\\n': 1.0}, 'ate\\n': {'Y': 0.5, 'W': 0.5}, 'te\\nY': {'o': 1.0}, 'You ': {'a': 1.0}, 'ou a': {'n': 1.0}, 'u an': {'d': 1.0}, 'me a': {'r': 1.0}, 'e ar': {'e': 1.0}, ' are': {' ': 1.0}, 'are ': {'t': 1.0}, 're t': {'h': 1.0}, 'e th': {'r': 0.5, 'e': 0.5}, ' thr': {'i': 1.0}, 'thri': {'f': 1.0}, 'hrif': {'t': 1.0}, 'rift': {'y': 1.0}, 'ifty': {',': 1.0}, 'fty,': {' ': 1.0}, 'ty, ': {'s': 1.0}, 'y, s': {'o': 1.0}, ', so': {' ': 1.0}, ' so ': {'g': 1.0}, 'so g': {'o': 1.0}, 'o go': {' ': 1.0}, ' go ': {'a': 1.0}, 'go a': {'l': 1.0}, 'o al': {'l': 1.0}, ' all': {' ': 1.0}, 'all ': {'y': 1.0}, 'll y': {'o': 1.0}, 'l yo': {'u': 1.0}, 'ou c': {'a': 1.0}, 'u ca': {'n': 1.0}, ' can': {' ': 1.0}, 'can ': {'e': 1.0}, 'an e': {'a': 1.0}, 'n ea': {'t': 1.0}, ' eat': {'\\n': 1.0}, 'eat\\n': {'F': 0.5, 'T': 0.5}, 'at\\nF': {'i': 1.0}, 't\\nFi': {'l': 1.0}, '\\nFil': {'l': 1.0}, 'Fill': {' ': 1.0}, 'ill ': {'u': 1.0}, 'll u': {'p': 1.0}, 'l up': {' ': 1.0}, 'up y': {'o': 1.0}, 'p yo': {'u': 1.0}, 'r ba': {'g': 1.0}, ' bag': {' ': 1.0}, 'bag ': {'a': 1.0}, 'ag a': {'n': 1.0}, 'g an': {'d': 1.0}, 'nd I': {' ': 0.5, \"'\": 0.5}, 'd I ': {'f': 1.0}, ' I f': {'i': 1.0}, 'I fi': {'l': 1.0}, ' fil': {'l': 1.0}, 'fill': {' ': 1.0}, ' a p': {'l': 1.0}, 'a pl': {'a': 1.0}, 'plat': {'e': 1.0}, 'late': {'\\n': 1.0}, 'te\\nW': {'e': 1.0}, 'e\\nWe': {' ': 1.0}, 'We t': {'a': 1.0}, 'lk f': {'o': 1.0}, 'k fo': {'r': 1.0}, 'or h': {'o': 1.0}, 'r ho': {'u': 1.0}, ' hou': {'r': 1.0}, 'hour': {'s': 1.0}, 'ours': {' ': 1.0}, 'urs ': {'a': 1.0}, 'rs a': {'n': 0.5, 'b': 0.5}, 's an': {'d': 1.0}, 'nd h': {'o': 1.0}, 'd ho': {'u': 0.5, 'w': 0.5}, 's ab': {'o': 1.0}, ' abo': {'u': 1.0}, 'abou': {'t': 1.0}, 'bout': {' ': 1.0}, 'e sw': {'e': 1.0}, ' swe': {'e': 1.0}, 'swee': {'t': 1.0}, 'weet': {' ': 1.0}, 'eet ': {'a': 1.0}, 'et a': {'n': 1.0}, 'e so': {'u': 1.0}, ' sou': {'r': 1.0}, 'sour': {'\\n': 1.0}, 'our\\n': {'A': 1.0}, 'ur\\nA': {'n': 1.0}, 'r\\nAn': {'d': 1.0}, ' how': {' ': 1.0}, 'how ': {'y': 1.0}, 'ow y': {'o': 1.0}, 'w yo': {'u': 1.0}, 'r fa': {'m': 1.0}, ' fam': {'i': 1.0}, 'fami': {'l': 1.0}, 'amil': {'y': 1.0}, 'mily': {' ': 1.0}, 'ily ': {'i': 1.0}, 'ly i': {'s': 1.0}, 'y is': {' ': 1.0}, 'is d': {'o': 1.0}, 's do': {'i': 1.0}, 'g ok': {'a': 1.0}, ' oka': {'y': 1.0}, 'okay': {'\\n': 1.0}, 'kay\\n': {'L': 1.0}, 'ay\\nL': {'e': 1.0}, 'y\\nLe': {'a': 1.0}, '\\nLea': {'v': 1.0}, 'Leav': {'e': 1.0}, 'eave': {' ': 1.0}, 'ave ': {'a': 1.0}, 've a': {'n': 1.0}, 'nd g': {'e': 1.0}, 'd ge': {'t': 1.0}, ' get': {' ': 1.0}, 'get ': {'i': 1.0}, 'et i': {'n': 1.0}, 't in': {' ': 1.0}, 'in a': {' ': 1.0}, 'n a ': {'t': 1.0}, ' a t': {'a': 1.0}, 'a ta': {'x': 1.0}, ' tax': {'i': 1.0}, 'taxi': {',': 1.0}, 'axi,': {' ': 1.0}, 'xi, ': {'t': 1.0}, 'i, t': {'h': 1.0}, ', th': {'e': 1.0}, 'en k': {'i': 1.0}, 'n ki': {'s': 1.0}, ' kis': {'s': 1.0}, 'kiss': {' ': 1.0}, 'iss ': {'i': 1.0}, 'ss i': {'n': 1.0}, 's in': {' ': 1.0}, 'in t': {'h': 1.0}, ' bac': {'k': 1.0}, 'back': {'s': 1.0}, 'acks': {'e': 1.0}, 'ckse': {'a': 1.0}, 'ksea': {'t': 1.0}, 'seat': {'\\n': 1.0}, 'at\\nT': {'e': 1.0}, 't\\nTe': {'l': 1.0}, '\\nTel': {'l': 1.0}, 'Tell': {' ': 1.0}, 'll t': {'h': 1.0}, 'l th': {'e': 1.0}, 'he d': {'r': 1.0}, 'e dr': {'i': 1.0}, ' dri': {'v': 1.0}, 'driv': {'e': 1.0}, 'rive': {'r': 1.0}, 'iver': {' ': 1.0}, 'er m': {'a': 1.0}, 'r ma': {'k': 1.0}, ' mak': {'e': 1.0}, 'make': {' ': 1.0}, 'ke t': {'h': 1.0}, 'he r': {'a': 1.0}, 'e ra': {'d': 1.0}, ' rad': {'i': 1.0}, 'radi': {'o': 1.0}, 'adio': {' ': 1.0}, 'dio ': {'p': 1.0}, 'io p': {'l': 1.0}, 'o pl': {'a': 1.0}, 'play': {',': 1.0}, 'lay,': {' ': 1.0}, 'y, a': {'n': 1.0}, \"d I'\": {'m': 1.0}, 'ou\\nC': {'o': 1.0}, 'u\\nCo': {'m': 1.0}, ' on,': {' ': 1.0}, 'on, ': {'b': 1.0}, 'n, b': {'e': 1.0}, ', be': {' ': 1.0}, 'be m': {'y': 1.0}, 'y ba': {'b': 1.0}, ' bab': {'y': 1.0}, 'baby': {',': 1.0}, 'aby,': {' ': 1.0}, 'by, ': {'c': 1.0}, 'y, c': {'o': 1.0}, ' on\\n': {'C': 0.7142857142857143, 'I': 0.2857142857142857}, 'on\\nC': {'o': 1.0}, 'n\\nCo': {'m': 1.0}, 'on\\nI': {\"'\": 1.0}, \"n\\nI'\": {'m': 1.0}, 'dy\\nL': {'a': 1.0}, 'y\\nLa': {'s': 1.0}, '\\nLas': {'t': 1.0}, 'Last': {' ': 1.0}, 'dy\\nC': {'o': 1.0}, 'y\\nCo': {'m': 1.0}}\n"
     ]
    }
   ],
   "source": [
    "T = convertFreqIntoProb(T)\n",
    "print(T)"
   ]
  },
  {
   "cell_type": "code",
   "execution_count": 9,
   "metadata": {},
   "outputs": [
    {
     "name": "stdout",
     "output_type": "stream",
     "text": [
      "The club isn't the best place to find a lover\n",
      "So the bar is where I go\n",
      "Me and my friends at the table doing shots\n",
      "Drinking fast and then we talk slow\n",
      "Come over and start up a conversation with just me\n",
      "And trust me I'll give it a chance now\n",
      "Take my hand, stop, put Van the Man on the jukebox\n",
      "And then we start to dance, and now I'm singing like\n",
      "Girl, you know I want your love\n",
      "Your love was handmade for somebody like me\n",
      "Come on now, follow my lead\n",
      "I may be crazy, don't mind me\n",
      "Say, boy, let's not talk too much\n",
      "Grab on my waist and put that body on me\n",
      "Come on now, follow my lead\n",
      "Come, come on now, follow my lead\n",
      "I'm in love with the shape of you\n",
      "We push and pull like a magnet do\n",
      "Although my heart is falling too\n",
      "I'm in love with your body\n",
      "And last night you were in my room\n",
      "And now my bedsheets smell like you\n",
      "Every day discovering something brand new\n",
      "I'm in love with your body\n",
      "Oh—I—oh—I—oh—I—oh—I\n",
      "I'm in love with your body\n",
      "Oh—I—oh—I—oh—I—oh—I\n",
      "I'm in love with your body\n",
      "Oh—I—oh—I—oh—I—oh—I\n",
      "I'm\n"
     ]
    }
   ],
   "source": [
    "print(data[:1000])"
   ]
  },
  {
   "cell_type": "markdown",
   "metadata": {},
   "source": [
    "# Train Our Markov model"
   ]
  },
  {
   "cell_type": "code",
   "execution_count": 10,
   "metadata": {},
   "outputs": [],
   "source": [
    "def trainMarkovChain(text,k=4):\n",
    "    \n",
    "    T = generateTable(text,k)\n",
    "    T = convertFreqIntoProb(T)\n",
    "    \n",
    "    return T\n",
    "    "
   ]
  },
  {
   "cell_type": "code",
   "execution_count": 11,
   "metadata": {},
   "outputs": [],
   "source": [
    "model = trainMarkovChain(data)"
   ]
  },
  {
   "cell_type": "code",
   "execution_count": 12,
   "metadata": {},
   "outputs": [
    {
     "name": "stdout",
     "output_type": "stream",
     "text": [
      "{'The ': {'c': 1.0}, 'he c': {'l': 1.0}, 'e cl': {'u': 1.0}, ' clu': {'b': 1.0}, 'club': {' ': 1.0}, 'lub ': {'i': 1.0}, 'ub i': {'s': 1.0}, 'b is': {'n': 1.0}, ' isn': {\"'\": 1.0}, \"isn'\": {'t': 1.0}, \"sn't\": {' ': 1.0}, \"n't \": {'t': 0.3333333333333333, 'm': 0.6666666666666666}, \"'t t\": {'h': 1.0}, 't th': {'e': 0.6666666666666666, 'a': 0.3333333333333333}, ' the': {' ': 0.85, 'n': 0.15}, 'the ': {'b': 0.17647058823529413, 't': 0.058823529411764705, 'M': 0.058823529411764705, 'j': 0.058823529411764705, 's': 0.5294117647058824, 'd': 0.058823529411764705, 'r': 0.058823529411764705}, 'he b': {'e': 0.3333333333333333, 'a': 0.6666666666666666}, 'e be': {'s': 1.0}, ' bes': {'t': 1.0}, 'best': {' ': 1.0}, 'est ': {'p': 1.0}, 'st p': {'l': 1.0}, 't pl': {'a': 1.0}, ' pla': {'c': 0.3333333333333333, 't': 0.3333333333333333, 'y': 0.3333333333333333}, 'plac': {'e': 1.0}, 'lace': {' ': 1.0}, 'ace ': {'t': 1.0}, 'ce t': {'o': 1.0}, 'e to': {' ': 1.0}, ' to ': {'f': 0.5, 'd': 0.5}, 'to f': {'i': 1.0}, 'o fi': {'n': 1.0}, ' fin': {'d': 1.0}, 'find': {' ': 1.0}, 'ind ': {'a': 0.3333333333333333, 'm': 0.6666666666666666}, 'nd a': {' ': 1.0}, 'd a ': {'l': 1.0}, ' a l': {'o': 1.0}, 'a lo': {'v': 1.0}, ' lov': {'e': 1.0}, 'love': {'r': 0.038461538461538464, '\\n': 0.07692307692307693, ' ': 0.8846153846153846}, 'over': {'\\n': 0.125, ' ': 0.125, 'i': 0.75}, 'ver\\n': {'S': 1.0}, 'er\\nS': {'o': 1.0}, 'r\\nSo': {' ': 1.0}, '\\nSo ': {'t': 1.0}, 'So t': {'h': 1.0}, 'o th': {'e': 1.0}, 'e ba': {'r': 0.5, 'c': 0.5}, ' bar': {' ': 1.0}, 'bar ': {'i': 1.0}, 'ar i': {'s': 1.0}, 'r is': {' ': 1.0}, ' is ': {'w': 0.2, 'f': 0.6, 'd': 0.2}, 'is w': {'h': 1.0}, 's wh': {'e': 1.0}, ' whe': {'r': 1.0}, 'wher': {'e': 1.0}, 'here': {' ': 1.0}, 'ere ': {'I': 0.25, 'i': 0.75}, 're I': {' ': 1.0}, 'e I ': {'g': 1.0}, ' I g': {'o': 1.0}, 'I go': {'\\n': 1.0}, ' go\\n': {'M': 1.0}, 'go\\nM': {'e': 1.0}, 'o\\nMe': {' ': 1.0}, '\\nMe ': {'a': 1.0}, 'Me a': {'n': 1.0}, 'e an': {'d': 1.0}, ' and': {' ': 1.0}, 'and ': {'m': 0.09523809523809523, 't': 0.09523809523809523, 's': 0.047619047619047616, 'n': 0.3333333333333333, 'p': 0.23809523809523808, 'I': 0.09523809523809523, 'h': 0.047619047619047616, 'g': 0.047619047619047616}, 'nd m': {'y': 0.25, 'e': 0.75}, 'd my': {' ': 1.0}, ' my ': {'f': 0.030303030303030304, 'h': 0.12121212121212122, 'l': 0.18181818181818182, 'w': 0.06060606060606061, 'r': 0.09090909090909091, 'b': 0.5151515151515151}, 'my f': {'r': 1.0}, 'y fr': {'i': 1.0}, ' fri': {'e': 1.0}, 'frie': {'n': 1.0}, 'rien': {'d': 1.0}, 'iend': {'s': 1.0}, 'ends': {' ': 1.0}, 'nds ': {'a': 1.0}, 'ds a': {'t': 1.0}, 's at': {' ': 1.0}, ' at ': {'t': 1.0}, 'at t': {'h': 1.0}, 'he t': {'a': 1.0}, 'e ta': {'b': 0.3333333333333333, 'l': 0.6666666666666666}, ' tab': {'l': 1.0}, 'tabl': {'e': 1.0}, 'able': {' ': 1.0}, 'ble ': {'d': 1.0}, 'le d': {'o': 1.0}, 'e do': {'i': 1.0}, ' doi': {'n': 1.0}, 'doin': {'g': 1.0}, 'oing': {' ': 1.0}, 'ing ': {'s': 0.3333333333333333, 'f': 0.047619047619047616, 'l': 0.09523809523809523, 't': 0.14285714285714285, 'b': 0.2857142857142857, 'o': 0.09523809523809523}, 'ng s': {'h': 0.14285714285714285, 'o': 0.8571428571428571}, 'g sh': {'o': 1.0}, ' sho': {'t': 1.0}, 'shot': {'s': 1.0}, 'hots': {'\\n': 1.0}, 'ots\\n': {'D': 1.0}, 'ts\\nD': {'r': 1.0}, 's\\nDr': {'i': 1.0}, '\\nDri': {'n': 1.0}, 'Drin': {'k': 1.0}, 'rink': {'i': 1.0}, 'inki': {'n': 1.0}, 'nkin': {'g': 1.0}, 'king': {' ': 1.0}, 'ng f': {'a': 1.0}, 'g fa': {'s': 1.0}, ' fas': {'t': 1.0}, 'fast': {' ': 1.0}, 'ast ': {'a': 0.25, 'n': 0.75}, 'st a': {'n': 1.0}, 't an': {'d': 1.0}, 'nd t': {'h': 0.75, 'r': 0.25}, 'd th': {'e': 1.0}, 'then': {' ': 1.0}, 'hen ': {'w': 0.6666666666666666, 'k': 0.3333333333333333}, 'en w': {'e': 1.0}, 'n we': {' ': 1.0}, ' we ': {'t': 0.3333333333333333, 's': 0.3333333333333333, 'l': 0.3333333333333333}, 'we t': {'a': 1.0}, ' tal': {'k': 1.0}, 'talk': {' ': 1.0}, 'alk ': {'s': 0.25, 't': 0.5, 'f': 0.25}, 'lk s': {'l': 1.0}, 'k sl': {'o': 1.0}, ' slo': {'w': 1.0}, 'slow': {'\\n': 1.0}, 'low\\n': {'C': 1.0}, 'ow\\nC': {'o': 1.0}, 'w\\nCo': {'m': 1.0}, '\\nCom': {'e': 1.0}, 'Come': {' ': 0.9047619047619048, ',': 0.09523809523809523}, 'ome ': {'o': 1.0}, 'me o': {'v': 0.02857142857142857, 'n': 0.9714285714285714}, 'e ov': {'e': 1.0}, ' ove': {'r': 1.0}, 'ver ': {'a': 0.5, 'm': 0.5}, 'er a': {'n': 1.0}, 'r an': {'d': 1.0}, 'nd s': {'t': 1.0}, 'd st': {'a': 1.0}, ' sta': {'r': 1.0}, 'star': {'t': 1.0}, 'tart': {' ': 1.0}, 'art ': {'u': 0.2, 't': 0.2, 'i': 0.6}, 'rt u': {'p': 1.0}, 't up': {' ': 1.0}, ' up ': {'a': 0.6666666666666666, 'y': 0.3333333333333333}, 'up a': {' ': 1.0}, 'p a ': {'c': 0.5, 'p': 0.5}, ' a c': {'o': 0.5, 'h': 0.5}, 'a co': {'n': 1.0}, ' con': {'v': 1.0}, 'conv': {'e': 1.0}, 'onve': {'r': 1.0}, 'nver': {'s': 1.0}, 'vers': {'a': 1.0}, 'ersa': {'t': 1.0}, 'rsat': {'i': 1.0}, 'sati': {'o': 1.0}, 'atio': {'n': 1.0}, 'tion': {' ': 1.0}, 'ion ': {'w': 1.0}, 'on w': {'i': 1.0}, 'n wi': {'t': 1.0}, ' wit': {'h': 1.0}, 'with': {' ': 1.0}, 'ith ': {'j': 0.045454545454545456, 't': 0.2727272727272727, 'y': 0.6818181818181818}, 'th j': {'u': 1.0}, 'h ju': {'s': 1.0}, ' jus': {'t': 1.0}, 'just': {' ': 1.0}, 'ust ': {'m': 1.0}, 'st m': {'e': 1.0}, 't me': {'\\n': 0.5, ' ': 0.5}, ' me\\n': {'A': 0.14285714285714285, 'C': 0.5714285714285714, 'S': 0.2857142857142857}, 'me\\nA': {'n': 1.0}, 'e\\nAn': {'d': 1.0}, '\\nAnd': {' ': 1.0}, 'And ': {'t': 0.25, 'l': 0.25, 'n': 0.375, 'h': 0.125}, 'd tr': {'u': 1.0}, ' tru': {'s': 1.0}, 'trus': {'t': 1.0}, 'rust': {' ': 1.0}, ' me ': {'I': 0.5, 'a': 0.5}, 'me I': {\"'\": 1.0}, \"e I'\": {'l': 1.0}, \" I'l\": {'l': 1.0}, \"I'll\": {' ': 1.0}, \"'ll \": {'g': 1.0}, 'll g': {'i': 1.0}, 'l gi': {'v': 1.0}, ' giv': {'e': 1.0}, 'give': {' ': 1.0}, 'ive ': {'i': 1.0}, 've i': {'t': 1.0}, 'e it': {' ': 1.0}, ' it ': {'a': 1.0}, 'it a': {' ': 1.0}, 't a ': {'c': 1.0}, 'a ch': {'a': 1.0}, ' cha': {'n': 1.0}, 'chan': {'c': 1.0}, 'hanc': {'e': 1.0}, 'ance': {' ': 0.5, ',': 0.5}, 'nce ': {'n': 1.0}, 'ce n': {'o': 1.0}, 'e no': {'w': 1.0}, ' now': {'\\n': 0.09090909090909091, ' ': 0.36363636363636365, ',': 0.5454545454545454}, 'now\\n': {'T': 1.0}, 'ow\\nT': {'a': 1.0}, 'w\\nTa': {'k': 1.0}, '\\nTak': {'e': 1.0}, 'Take': {' ': 1.0}, 'ake ': {'m': 0.5, 't': 0.5}, 'ke m': {'y': 0.3333333333333333, 'e': 0.6666666666666666}, 'e my': {' ': 1.0}, 'my h': {'a': 0.25, 'e': 0.75}, 'y ha': {'n': 1.0}, ' han': {'d': 1.0}, 'hand': {',': 0.3333333333333333, 'm': 0.6666666666666666}, 'and,': {' ': 1.0}, 'nd, ': {'s': 1.0}, 'd, s': {'t': 1.0}, ', st': {'o': 1.0}, ' sto': {'p': 0.5, 'r': 0.5}, 'stop': {',': 1.0}, 'top,': {' ': 1.0}, 'op, ': {'p': 1.0}, 'p, p': {'u': 1.0}, ', pu': {'t': 1.0}, ' put': {' ': 1.0}, 'put ': {'V': 0.3333333333333333, 't': 0.6666666666666666}, 'ut V': {'a': 1.0}, 't Va': {'n': 1.0}, ' Van': {' ': 1.0}, 'Van ': {'t': 1.0}, 'an t': {'h': 1.0}, 'n th': {'e': 1.0}, 'he M': {'a': 1.0}, 'e Ma': {'n': 1.0}, ' Man': {' ': 1.0}, 'Man ': {'o': 1.0}, 'an o': {'n': 1.0}, 'n on': {' ': 1.0}, ' on ': {'t': 0.08333333333333333, 'n': 0.5, 'm': 0.3333333333333333, 'o': 0.08333333333333333}, 'on t': {'h': 1.0}, 'he j': {'u': 1.0}, 'e ju': {'k': 1.0}, ' juk': {'e': 1.0}, 'juke': {'b': 1.0}, 'ukeb': {'o': 1.0}, 'kebo': {'x': 1.0}, 'ebox': {'\\n': 1.0}, 'box\\n': {'A': 1.0}, 'ox\\nA': {'n': 1.0}, 'x\\nAn': {'d': 1.0}, 'we s': {'t': 1.0}, 'e st': {'a': 0.5, 'o': 0.5}, 'rt t': {'o': 1.0}, 't to': {' ': 1.0}, 'to d': {'a': 1.0}, 'o da': {'n': 1.0}, ' dan': {'c': 1.0}, 'danc': {'e': 1.0}, 'nce,': {' ': 1.0}, 'ce, ': {'a': 1.0}, 'e, a': {'n': 1.0}, ', an': {'d': 1.0}, 'nd n': {'o': 0.4, 'e': 0.6}, 'd no': {'w': 1.0}, 'now ': {'I': 0.5, 'm': 0.5}, 'ow I': {\"'\": 0.3333333333333333, ' ': 0.6666666666666666}, \"w I'\": {'m': 1.0}, \" I'm\": {' ': 1.0}, \"I'm \": {'s': 0.08695652173913043, 'i': 0.9130434782608695}, \"'m s\": {'i': 1.0}, 'm si': {'n': 1.0}, ' sin': {'g': 1.0}, 'sing': {'i': 1.0}, 'ingi': {'n': 1.0}, 'ngin': {'g': 1.0}, 'ging': {' ': 1.0}, 'ng l': {'i': 1.0}, 'g li': {'k': 1.0}, ' lik': {'e': 1.0}, 'like': {'\\n': 0.2, ' ': 0.8}, 'ike\\n': {'G': 1.0}, 'ke\\nG': {'i': 1.0}, 'e\\nGi': {'r': 1.0}, '\\nGir': {'l': 1.0}, 'Girl': {',': 1.0}, 'irl,': {' ': 1.0}, 'rl, ': {'y': 1.0}, 'l, y': {'o': 1.0}, ', yo': {'u': 1.0}, ' you': {' ': 0.18181818181818182, 'r': 0.5757575757575758, '\\n': 0.24242424242424243}, 'you ': {'k': 0.3333333333333333, 'w': 0.5, 'c': 0.16666666666666666}, 'ou k': {'n': 1.0}, 'u kn': {'o': 1.0}, ' kno': {'w': 1.0}, 'know': {' ': 1.0}, 'w I ': {'w': 1.0}, ' I w': {'a': 1.0}, 'I wa': {'n': 1.0}, ' wan': {'t': 1.0}, 'want': {' ': 1.0}, 'ant ': {'y': 1.0}, 'nt y': {'o': 1.0}, 't yo': {'u': 1.0}, 'your': {' ': 1.0}, 'our ': {'l': 0.18181818181818182, 'b': 0.7272727272727273, 'f': 0.09090909090909091}, 'ur l': {'o': 1.0}, 'r lo': {'v': 1.0}, 'ove\\n': {'Y': 1.0}, 've\\nY': {'o': 1.0}, 'e\\nYo': {'u': 1.0}, '\\nYou': {'r': 0.6666666666666666, ' ': 0.3333333333333333}, 'Your': {' ': 1.0}, 'ove ': {'w': 1.0}, 've w': {'a': 0.08695652173913043, 'i': 0.9130434782608695}, 'e wa': {'s': 1.0}, ' was': {' ': 1.0}, 'was ': {'h': 1.0}, 'as h': {'a': 1.0}, 's ha': {'n': 1.0}, 'andm': {'a': 1.0}, 'ndma': {'d': 1.0}, 'dmad': {'e': 1.0}, 'made': {' ': 1.0}, 'ade ': {'f': 1.0}, 'de f': {'o': 1.0}, 'e fo': {'r': 1.0}, ' for': {' ': 1.0}, 'for ': {'s': 0.6666666666666666, 'h': 0.3333333333333333}, 'or s': {'o': 1.0}, 'r so': {'m': 1.0}, ' som': {'e': 1.0}, 'some': {'b': 0.25, 't': 0.75}, 'omeb': {'o': 1.0}, 'mebo': {'d': 1.0}, 'ebod': {'y': 1.0}, 'body': {' ': 0.21052631578947367, '\\n': 0.7894736842105263}, 'ody ': {'l': 0.5, 'o': 0.5}, 'dy l': {'i': 1.0}, 'y li': {'k': 1.0}, 'ike ': {'m': 0.25, 'a': 0.375, 'y': 0.375}, 'e me': {'\\n': 1.0}, 'me\\nC': {'o': 1.0}, 'e\\nCo': {'m': 1.0}, 'e on': {' ': 0.17647058823529413, ',': 0.4117647058823529, '\\n': 0.4117647058823529}, 'on n': {'o': 1.0}, 'n no': {'w': 1.0}, 'now,': {' ': 1.0}, 'ow, ': {'f': 1.0}, 'w, f': {'o': 1.0}, ', fo': {'l': 1.0}, ' fol': {'l': 1.0}, 'foll': {'o': 1.0}, 'ollo': {'w': 1.0}, 'llow': {' ': 1.0}, 'low ': {'m': 1.0}, 'ow m': {'y': 1.0}, 'w my': {' ': 1.0}, 'my l': {'e': 1.0}, 'y le': {'a': 1.0}, ' lea': {'d': 1.0}, 'lead': {'\\n': 1.0}, 'ead\\n': {'I': 0.6666666666666666, 'C': 0.3333333333333333}, 'ad\\nI': {' ': 0.5, \"'\": 0.5}, 'd\\nI ': {'m': 1.0}, '\\nI m': {'a': 1.0}, 'I ma': {'y': 1.0}, ' may': {' ': 1.0}, 'may ': {'b': 1.0}, 'ay b': {'e': 1.0}, 'y be': {' ': 0.3333333333333333, 'd': 0.5, 'g': 0.16666666666666666}, ' be ': {'c': 0.125, 'm': 0.875}, 'be c': {'r': 1.0}, 'e cr': {'a': 1.0}, ' cra': {'z': 1.0}, 'craz': {'y': 1.0}, 'razy': {',': 1.0}, 'azy,': {' ': 1.0}, 'zy, ': {'d': 1.0}, 'y, d': {'o': 1.0}, ', do': {'n': 1.0}, ' don': {\"'\": 1.0}, \"don'\": {'t': 1.0}, \"on't\": {' ': 1.0}, \"'t m\": {'i': 1.0}, 't mi': {'n': 1.0}, ' min': {'d': 1.0}, 'mind': {' ': 1.0}, 'd me': {'\\n': 0.6666666666666666, ' ': 0.3333333333333333}, 'me\\nS': {'a': 1.0}, 'e\\nSa': {'y': 1.0}, '\\nSay': {',': 1.0}, 'Say,': {' ': 1.0}, 'ay, ': {'b': 0.6666666666666666, 'a': 0.3333333333333333}, 'y, b': {'o': 1.0}, ', bo': {'y': 1.0}, ' boy': {',': 1.0}, 'boy,': {' ': 1.0}, 'oy, ': {'l': 1.0}, 'y, l': {'e': 1.0}, ', le': {'t': 1.0}, ' let': {\"'\": 0.6666666666666666, ' ': 0.3333333333333333}, \"let'\": {'s': 1.0}, \"et's\": {' ': 1.0}, \"t's \": {'n': 1.0}, \"'s n\": {'o': 1.0}, 's no': {'t': 1.0}, ' not': {' ': 1.0}, 'not ': {'t': 1.0}, 'ot t': {'a': 1.0}, 't ta': {'l': 1.0}, 'lk t': {'o': 1.0}, 'k to': {'o': 1.0}, ' too': {' ': 0.4, '\\n': 0.6}, 'too ': {'m': 1.0}, 'oo m': {'u': 1.0}, 'o mu': {'c': 1.0}, ' muc': {'h': 1.0}, 'much': {'\\n': 1.0}, 'uch\\n': {'G': 1.0}, 'ch\\nG': {'r': 1.0}, 'h\\nGr': {'a': 1.0}, '\\nGra': {'b': 1.0}, 'Grab': {' ': 1.0}, 'rab ': {'o': 1.0}, 'ab o': {'n': 1.0}, 'b on': {' ': 1.0}, 'on m': {'y': 0.5, 'e': 0.5}, 'n my': {' ': 1.0}, 'my w': {'a': 1.0}, 'y wa': {'i': 1.0}, ' wai': {'s': 1.0}, 'wais': {'t': 1.0}, 'aist': {' ': 1.0}, 'ist ': {'a': 1.0}, 'nd p': {'u': 1.0}, 'd pu': {'t': 0.4, 'l': 0.6}, 'ut t': {'h': 1.0}, ' tha': {'t': 1.0}, 'that': {' ': 1.0}, 'hat ': {'b': 1.0}, 'at b': {'o': 1.0}, 't bo': {'d': 1.0}, ' bod': {'y': 1.0}, 'dy o': {'n': 1.0}, 'y on': {' ': 1.0}, 'n me': {'\\n': 1.0}, 'ad\\nC': {'o': 1.0}, 'd\\nCo': {'m': 1.0}, 'ome,': {' ': 1.0}, 'me, ': {'c': 1.0}, 'e, c': {'o': 1.0}, ', co': {'m': 1.0}, ' com': {'e': 1.0}, 'come': {' ': 1.0}, \"d\\nI'\": {'m': 1.0}, \"\\nI'm\": {' ': 1.0}, \"'m i\": {'n': 1.0}, 'm in': {' ': 1.0}, ' in ': {'l': 0.7777777777777778, 'm': 0.1111111111111111, 'w': 0.037037037037037035, 'a': 0.037037037037037035, 't': 0.037037037037037035}, 'in l': {'o': 1.0}, 'n lo': {'v': 1.0}, 'e wi': {'t': 1.0}, 'th t': {'h': 1.0}, 'h th': {'e': 1.0}, 'he s': {'h': 0.6666666666666666, 't': 0.1111111111111111, 'w': 0.1111111111111111, 'o': 0.1111111111111111}, 'e sh': {'a': 1.0}, ' sha': {'p': 1.0}, 'shap': {'e': 1.0}, 'hape': {' ': 1.0}, 'ape ': {'o': 1.0}, 'pe o': {'f': 1.0}, 'e of': {' ': 1.0}, ' of ': {'y': 1.0}, 'of y': {'o': 1.0}, 'f yo': {'u': 1.0}, 'you\\n': {'W': 0.375, 'E': 0.375, 'O': 0.125, 'C': 0.125}, 'ou\\nW': {'e': 1.0}, 'u\\nWe': {' ': 1.0}, '\\nWe ': {'p': 0.75, 't': 0.25}, 'We p': {'u': 1.0}, 'e pu': {'s': 1.0}, ' pus': {'h': 1.0}, 'push': {' ': 1.0}, 'ush ': {'a': 1.0}, 'sh a': {'n': 1.0}, 'h an': {'d': 1.0}, ' pul': {'l': 1.0}, 'pull': {' ': 1.0}, 'ull ': {'l': 1.0}, 'll l': {'i': 1.0}, 'l li': {'k': 1.0}, 'ke a': {' ': 1.0}, 'e a ': {'m': 1.0}, ' a m': {'a': 1.0}, 'a ma': {'g': 1.0}, ' mag': {'n': 1.0}, 'magn': {'e': 1.0}, 'agne': {'t': 1.0}, 'gnet': {' ': 1.0}, 'net ': {'d': 1.0}, 'et d': {'o': 1.0}, 't do': {'\\n': 1.0}, ' do\\n': {'A': 1.0}, 'do\\nA': {'l': 1.0}, 'o\\nAl': {'t': 1.0}, '\\nAlt': {'h': 1.0}, 'Alth': {'o': 1.0}, 'ltho': {'u': 1.0}, 'thou': {'g': 1.0}, 'houg': {'h': 1.0}, 'ough': {' ': 1.0}, 'ugh ': {'m': 1.0}, 'gh m': {'y': 1.0}, 'h my': {' ': 1.0}, 'y he': {'a': 1.0}, ' hea': {'r': 1.0}, 'hear': {'t': 1.0}, 'eart': {' ': 1.0}, 'rt i': {'s': 1.0}, 't is': {' ': 1.0}, 'is f': {'a': 1.0}, 's fa': {'l': 1.0}, ' fal': {'l': 1.0}, 'fall': {'i': 1.0}, 'alli': {'n': 1.0}, 'llin': {'g': 1.0}, 'ling': {' ': 1.0}, 'ng t': {'o': 1.0}, 'g to': {'o': 1.0}, 'too\\n': {'I': 1.0}, 'oo\\nI': {\"'\": 1.0}, \"o\\nI'\": {'m': 1.0}, 'th y': {'o': 1.0}, 'h yo': {'u': 1.0}, 'ur b': {'o': 0.9375, 'a': 0.0625}, 'r bo': {'d': 1.0}, 'ody\\n': {'A': 0.13333333333333333, 'O': 0.4, 'E': 0.2, 'L': 0.06666666666666667, 'C': 0.2}, 'dy\\nA': {'n': 1.0}, 'y\\nAn': {'d': 1.0}, 'nd l': {'a': 1.0}, 'd la': {'s': 1.0}, ' las': {'t': 1.0}, 'last': {' ': 1.0}, 'st n': {'i': 1.0}, 't ni': {'g': 1.0}, ' nig': {'h': 1.0}, 'nigh': {'t': 1.0}, 'ight': {' ': 1.0}, 'ght ': {'y': 1.0}, 'ht y': {'o': 1.0}, 'ou w': {'e': 1.0}, 'u we': {'r': 1.0}, ' wer': {'e': 1.0}, 'were': {' ': 1.0}, 're i': {'n': 1.0}, 'e in': {' ': 1.0}, 'in m': {'y': 1.0}, 'my r': {'o': 1.0}, 'y ro': {'o': 1.0}, ' roo': {'m': 1.0}, 'room': {'\\n': 1.0}, 'oom\\n': {'A': 1.0}, 'om\\nA': {'n': 1.0}, 'm\\nAn': {'d': 1.0}, 'my b': {'e': 0.17647058823529413, 'a': 0.8235294117647058}, ' bed': {'s': 1.0}, 'beds': {'h': 1.0}, 'edsh': {'e': 1.0}, 'dshe': {'e': 1.0}, 'shee': {'t': 1.0}, 'heet': {'s': 1.0}, 'eets': {' ': 1.0}, 'ets ': {'s': 1.0}, 'ts s': {'m': 1.0}, 's sm': {'e': 1.0}, ' sme': {'l': 1.0}, 'smel': {'l': 1.0}, 'mell': {' ': 1.0}, 'ell ': {'l': 0.75, 't': 0.25}, 'ke y': {'o': 1.0}, 'e yo': {'u': 1.0}, 'ou\\nE': {'v': 1.0}, 'u\\nEv': {'e': 1.0}, '\\nEve': {'r': 1.0}, 'Ever': {'y': 1.0}, 'very': {' ': 1.0}, 'ery ': {'d': 1.0}, 'ry d': {'a': 1.0}, 'y da': {'y': 1.0}, ' day': {' ': 1.0}, 'day ': {'d': 1.0}, 'ay d': {'i': 1.0}, 'y di': {'s': 1.0}, ' dis': {'c': 1.0}, 'disc': {'o': 1.0}, 'isco': {'v': 1.0}, 'scov': {'e': 1.0}, 'cove': {'r': 1.0}, 'veri': {'n': 1.0}, 'erin': {'g': 1.0}, 'ring': {' ': 1.0}, 'g so': {'m': 1.0}, 'omet': {'h': 1.0}, 'meth': {'i': 1.0}, 'ethi': {'n': 1.0}, 'thin': {'g': 1.0}, 'hing': {' ': 1.0}, 'ng b': {'r': 1.0}, 'g br': {'a': 1.0}, ' bra': {'n': 1.0}, 'bran': {'d': 1.0}, 'rand': {' ': 1.0}, 'd ne': {'w': 1.0}, ' new': {'\\n': 1.0}, 'new\\n': {'I': 1.0}, 'ew\\nI': {\"'\": 1.0}, \"w\\nI'\": {'m': 1.0}, 'dy\\nO': {'h': 1.0}, 'y\\nOh': {'—': 1.0}, '\\nOh—': {'I': 1.0}, 'Oh—I': {'—': 1.0}, 'h—I—': {'o': 1.0}, '—I—o': {'h': 1.0}, 'I—oh': {'—': 1.0}, '—oh—': {'I': 1.0}, 'oh—I': {'—': 0.6666666666666666, '\\n': 0.3333333333333333}, 'h—I\\n': {'I': 1.0}, '—I\\nI': {\"'\": 1.0}, \"I\\nI'\": {'m': 1.0}, 'dy\\nE': {'v': 1.0}, 'y\\nEv': {'e': 1.0}, 'ou\\nO': {'n': 1.0}, 'u\\nOn': {'e': 1.0}, '\\nOne': {' ': 1.0}, 'One ': {'w': 1.0}, 'ne w': {'e': 1.0}, 'e we': {'e': 1.0}, ' wee': {'k': 1.0}, 'week': {' ': 1.0}, 'eek ': {'i': 1.0}, 'ek i': {'n': 1.0}, 'k in': {' ': 1.0}, 'in w': {'e': 1.0}, 'we l': {'e': 1.0}, 'e le': {'t': 1.0}, 'let ': {'t': 1.0}, 'et t': {'h': 1.0}, 'stor': {'y': 1.0}, 'tory': {' ': 1.0}, 'ory ': {'b': 1.0}, 'ry b': {'e': 1.0}, ' beg': {'i': 1.0}, 'begi': {'n': 1.0}, 'egin': {'\\n': 1.0}, 'gin\\n': {'W': 1.0}, 'in\\nW': {'e': 1.0}, 'n\\nWe': {\"'\": 1.0}, \"\\nWe'\": {'r': 1.0}, \"We'r\": {'e': 1.0}, \"e're\": {' ': 1.0}, \"'re \": {'g': 1.0}, 're g': {'o': 1.0}, 'e go': {'i': 1.0}, ' goi': {'n': 1.0}, 'goin': {'g': 1.0}, 'ng o': {'u': 0.5, 'k': 0.5}, 'g ou': {'t': 1.0}, ' out': {' ': 1.0}, 'out ': {'o': 0.5, 't': 0.5}, 'ut o': {'n': 1.0}, 't on': {' ': 1.0}, 'on o': {'u': 1.0}, 'n ou': {'r': 1.0}, ' our': {' ': 1.0}, 'ur f': {'i': 0.5, 'a': 0.5}, 'r fi': {'r': 1.0}, ' fir': {'s': 1.0}, 'firs': {'t': 1.0}, 'irst': {' ': 1.0}, 'rst ': {'d': 1.0}, 'st d': {'a': 1.0}, 't da': {'t': 1.0}, ' dat': {'e': 1.0}, 'date': {'\\n': 1.0}, 'ate\\n': {'Y': 0.5, 'W': 0.5}, 'te\\nY': {'o': 1.0}, 'You ': {'a': 1.0}, 'ou a': {'n': 1.0}, 'u an': {'d': 1.0}, 'me a': {'r': 1.0}, 'e ar': {'e': 1.0}, ' are': {' ': 1.0}, 'are ': {'t': 1.0}, 're t': {'h': 1.0}, 'e th': {'r': 0.5, 'e': 0.5}, ' thr': {'i': 1.0}, 'thri': {'f': 1.0}, 'hrif': {'t': 1.0}, 'rift': {'y': 1.0}, 'ifty': {',': 1.0}, 'fty,': {' ': 1.0}, 'ty, ': {'s': 1.0}, 'y, s': {'o': 1.0}, ', so': {' ': 1.0}, ' so ': {'g': 1.0}, 'so g': {'o': 1.0}, 'o go': {' ': 1.0}, ' go ': {'a': 1.0}, 'go a': {'l': 1.0}, 'o al': {'l': 1.0}, ' all': {' ': 1.0}, 'all ': {'y': 1.0}, 'll y': {'o': 1.0}, 'l yo': {'u': 1.0}, 'ou c': {'a': 1.0}, 'u ca': {'n': 1.0}, ' can': {' ': 1.0}, 'can ': {'e': 1.0}, 'an e': {'a': 1.0}, 'n ea': {'t': 1.0}, ' eat': {'\\n': 1.0}, 'eat\\n': {'F': 0.5, 'T': 0.5}, 'at\\nF': {'i': 1.0}, 't\\nFi': {'l': 1.0}, '\\nFil': {'l': 1.0}, 'Fill': {' ': 1.0}, 'ill ': {'u': 1.0}, 'll u': {'p': 1.0}, 'l up': {' ': 1.0}, 'up y': {'o': 1.0}, 'p yo': {'u': 1.0}, 'r ba': {'g': 1.0}, ' bag': {' ': 1.0}, 'bag ': {'a': 1.0}, 'ag a': {'n': 1.0}, 'g an': {'d': 1.0}, 'nd I': {' ': 0.5, \"'\": 0.5}, 'd I ': {'f': 1.0}, ' I f': {'i': 1.0}, 'I fi': {'l': 1.0}, ' fil': {'l': 1.0}, 'fill': {' ': 1.0}, ' a p': {'l': 1.0}, 'a pl': {'a': 1.0}, 'plat': {'e': 1.0}, 'late': {'\\n': 1.0}, 'te\\nW': {'e': 1.0}, 'e\\nWe': {' ': 1.0}, 'We t': {'a': 1.0}, 'lk f': {'o': 1.0}, 'k fo': {'r': 1.0}, 'or h': {'o': 1.0}, 'r ho': {'u': 1.0}, ' hou': {'r': 1.0}, 'hour': {'s': 1.0}, 'ours': {' ': 1.0}, 'urs ': {'a': 1.0}, 'rs a': {'n': 0.5, 'b': 0.5}, 's an': {'d': 1.0}, 'nd h': {'o': 1.0}, 'd ho': {'u': 0.5, 'w': 0.5}, 's ab': {'o': 1.0}, ' abo': {'u': 1.0}, 'abou': {'t': 1.0}, 'bout': {' ': 1.0}, 'e sw': {'e': 1.0}, ' swe': {'e': 1.0}, 'swee': {'t': 1.0}, 'weet': {' ': 1.0}, 'eet ': {'a': 1.0}, 'et a': {'n': 1.0}, 'e so': {'u': 1.0}, ' sou': {'r': 1.0}, 'sour': {'\\n': 1.0}, 'our\\n': {'A': 1.0}, 'ur\\nA': {'n': 1.0}, 'r\\nAn': {'d': 1.0}, ' how': {' ': 1.0}, 'how ': {'y': 1.0}, 'ow y': {'o': 1.0}, 'w yo': {'u': 1.0}, 'r fa': {'m': 1.0}, ' fam': {'i': 1.0}, 'fami': {'l': 1.0}, 'amil': {'y': 1.0}, 'mily': {' ': 1.0}, 'ily ': {'i': 1.0}, 'ly i': {'s': 1.0}, 'y is': {' ': 1.0}, 'is d': {'o': 1.0}, 's do': {'i': 1.0}, 'g ok': {'a': 1.0}, ' oka': {'y': 1.0}, 'okay': {'\\n': 1.0}, 'kay\\n': {'L': 1.0}, 'ay\\nL': {'e': 1.0}, 'y\\nLe': {'a': 1.0}, '\\nLea': {'v': 1.0}, 'Leav': {'e': 1.0}, 'eave': {' ': 1.0}, 'ave ': {'a': 1.0}, 've a': {'n': 1.0}, 'nd g': {'e': 1.0}, 'd ge': {'t': 1.0}, ' get': {' ': 1.0}, 'get ': {'i': 1.0}, 'et i': {'n': 1.0}, 't in': {' ': 1.0}, 'in a': {' ': 1.0}, 'n a ': {'t': 1.0}, ' a t': {'a': 1.0}, 'a ta': {'x': 1.0}, ' tax': {'i': 1.0}, 'taxi': {',': 1.0}, 'axi,': {' ': 1.0}, 'xi, ': {'t': 1.0}, 'i, t': {'h': 1.0}, ', th': {'e': 1.0}, 'en k': {'i': 1.0}, 'n ki': {'s': 1.0}, ' kis': {'s': 1.0}, 'kiss': {' ': 1.0}, 'iss ': {'i': 1.0}, 'ss i': {'n': 1.0}, 's in': {' ': 1.0}, 'in t': {'h': 1.0}, ' bac': {'k': 1.0}, 'back': {'s': 1.0}, 'acks': {'e': 1.0}, 'ckse': {'a': 1.0}, 'ksea': {'t': 1.0}, 'seat': {'\\n': 1.0}, 'at\\nT': {'e': 1.0}, 't\\nTe': {'l': 1.0}, '\\nTel': {'l': 1.0}, 'Tell': {' ': 1.0}, 'll t': {'h': 1.0}, 'l th': {'e': 1.0}, 'he d': {'r': 1.0}, 'e dr': {'i': 1.0}, ' dri': {'v': 1.0}, 'driv': {'e': 1.0}, 'rive': {'r': 1.0}, 'iver': {' ': 1.0}, 'er m': {'a': 1.0}, 'r ma': {'k': 1.0}, ' mak': {'e': 1.0}, 'make': {' ': 1.0}, 'ke t': {'h': 1.0}, 'he r': {'a': 1.0}, 'e ra': {'d': 1.0}, ' rad': {'i': 1.0}, 'radi': {'o': 1.0}, 'adio': {' ': 1.0}, 'dio ': {'p': 1.0}, 'io p': {'l': 1.0}, 'o pl': {'a': 1.0}, 'play': {',': 1.0}, 'lay,': {' ': 1.0}, 'y, a': {'n': 1.0}, \"d I'\": {'m': 1.0}, 'ou\\nC': {'o': 1.0}, 'u\\nCo': {'m': 1.0}, ' on,': {' ': 1.0}, 'on, ': {'b': 1.0}, 'n, b': {'e': 1.0}, ', be': {' ': 1.0}, 'be m': {'y': 1.0}, 'y ba': {'b': 1.0}, ' bab': {'y': 1.0}, 'baby': {',': 1.0}, 'aby,': {' ': 1.0}, 'by, ': {'c': 1.0}, 'y, c': {'o': 1.0}, ' on\\n': {'C': 0.7142857142857143, 'I': 0.2857142857142857}, 'on\\nC': {'o': 1.0}, 'n\\nCo': {'m': 1.0}, 'on\\nI': {\"'\": 1.0}, \"n\\nI'\": {'m': 1.0}, 'dy\\nL': {'a': 1.0}, 'y\\nLa': {'s': 1.0}, '\\nLas': {'t': 1.0}, 'Last': {' ': 1.0}, 'dy\\nC': {'o': 1.0}, 'y\\nCo': {'m': 1.0}}\n"
     ]
    }
   ],
   "source": [
    "print(model)"
   ]
  },
  {
   "cell_type": "code",
   "execution_count": 13,
   "metadata": {},
   "outputs": [],
   "source": [
    "import numpy as np\n",
    "import random"
   ]
  },
  {
   "cell_type": "code",
   "execution_count": 14,
   "metadata": {},
   "outputs": [],
   "source": [
    "def sample_next(ctx,T,k):\n",
    "    ctx = ctx[-k:]\n",
    "    if T.get(ctx) is None:\n",
    "        return \" \"\n",
    "    possible_Chars = list(T[ctx].keys())\n",
    "    possible_values = list(T[ctx].values())\n",
    "    \n",
    "    #print(possible_Chars)\n",
    "    #print(possible_values)\n",
    "    \n",
    "    return np.random.choice(possible_Chars,p=possible_values)"
   ]
  },
  {
   "cell_type": "code",
   "execution_count": 15,
   "metadata": {},
   "outputs": [
    {
     "data": {
      "text/plain": [
       "' '"
      ]
     },
     "execution_count": 15,
     "metadata": {},
     "output_type": "execute_result"
    }
   ],
   "source": [
    "sample_next(\"The\",model,6)"
   ]
  },
  {
   "cell_type": "code",
   "execution_count": 16,
   "metadata": {},
   "outputs": [],
   "source": [
    "def generateText(starting_sent,k=4,maxLen=1000):\n",
    "    \n",
    "    sentence = starting_sent\n",
    "    ctx = starting_sent[-k:]\n",
    "    \n",
    "    for ix in range(maxLen):\n",
    "        next_prediction = sample_next(ctx,model,k)\n",
    "        sentence += next_prediction\n",
    "        ctx = sentence[-k:]\n",
    "    return sentence"
   ]
  },
  {
   "cell_type": "markdown",
   "metadata": {},
   "source": [
    "# Random Lyrics Generation"
   ]
  },
  {
   "cell_type": "code",
   "execution_count": 19,
   "metadata": {},
   "outputs": [
    {
     "name": "stdout",
     "output_type": "stream",
     "text": [
      "The club isn't mind my lead\n",
      "I may be my baby, come on, be my baby, come on\n",
      "Come on\n",
      "Come overing okay\n",
      "Leave and new\n",
      "I'm in love with you were in love\n",
      "You and the jukebox\n",
      "And new\n",
      "I'm in love with the sweet and put Van the driver and pull like you\n",
      "Every day discovering brand new\n",
      "I'm singing brand now, follow my lead\n",
      "Come overing like my baby, come on, be my lead\n",
      "Come on now, follow my baby, come on, be my baby, come on, be my heart is falling something something like me\n",
      "Come, come on\n",
      "I'm in my baby, come on\n",
      "Come on, be my be my heart up a chance now, follow my waist and now, follow my lead\n",
      "I may be my lead\n",
      "I'm in a taxi, the shape of your body\n",
      "Oh—I—oh—I—oh—I—oh—I—oh—I\n",
      "I'm in love with your love with your love with your body\n",
      "Every day discover make the shape of you\n",
      "One week in love with you know I'm singing shots\n",
      "Drinking okay\n",
      "Leave and me\n",
      "Say, boy, let's not talk too\n",
      "I'm in the bar is where in love with you\n",
      "Come on\n",
      "I'm in love was handmade for something too\n",
      "I'm singing too much\n",
      "Grab on our love with your body\n",
      "Oh—I—oh—I\n",
      "I'm in love\n",
      "You and pull like me\n",
      "Say, and me I'll give it a chance, and new\n",
      "I'm in love with your body\n",
      "Oh—I—oh—I\n",
      "I'm in the shape of you were I go\n",
      "Me and I'm in my baby, come on, be crazy, don't that body\n",
      "Oh—I—oh—I—oh—I—oh—I—oh—I\n",
      "I'm in love with you\n",
      "We talk too much\n",
      "Grab on the shape of you\n",
      "We push and now my baby, come on me\n",
      "Come, come on me\n",
      "Come, come on\n",
      "Come, come on, be my lead\n",
      "Come on me\n",
      "Say, and get in love with you were in my lead\n",
      "I may bedsheets smell like your body\n",
      "Oh—I—oh—I—oh—I—oh—I—oh—I—oh—I—oh—I—oh—I—oh—I—oh—I\n",
      "I'm in love with then kiss in we start up a conversation with the talk too much\n",
      "Grab on now I want you can eat\n",
      "Tell like me\n",
      "Come on\n",
      "Come on\n",
      "Come on\n",
      "Come on\n",
      "Come on, be my lead\n",
      "I may begin\n",
      "We're going somebody\n",
      "Every day discovering brand new\n",
      "I'm in lover\n",
      "So the bar is falling too much\n",
      "Grab on now my baby, come on our bag and pull like your body like\n",
      "Girl, your love with your love with your love with your bag and put that body\n",
      "Oh—I—oh—I—oh\n"
     ]
    }
   ],
   "source": [
    "\n",
    "text = generateText(\"The\",k=4,maxLen=2000)\n",
    "print(text)"
   ]
  },
  {
   "cell_type": "code",
   "execution_count": null,
   "metadata": {},
   "outputs": [],
   "source": []
  }
 ],
 "metadata": {
  "kernelspec": {
   "display_name": "Python 3",
   "language": "python",
   "name": "python3"
  },
  "language_info": {
   "codemirror_mode": {
    "name": "ipython",
    "version": 3
   },
   "file_extension": ".py",
   "mimetype": "text/x-python",
   "name": "python",
   "nbconvert_exporter": "python",
   "pygments_lexer": "ipython3",
   "version": "3.7.4"
  }
 },
 "nbformat": 4,
 "nbformat_minor": 2
}
